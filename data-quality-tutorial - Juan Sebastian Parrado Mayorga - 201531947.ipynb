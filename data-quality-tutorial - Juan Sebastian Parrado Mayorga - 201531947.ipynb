{
 "cells": [
  {
   "cell_type": "markdown",
   "metadata": {},
   "source": [
    "<a href=\"https://colab.research.google.com/github/datascience-uniandes/data-quality-tutorial/blob/master/data-quality-tutorial.ipynb\" target=\"_parent\"><img src=\"https://colab.research.google.com/assets/colab-badge.svg\" alt=\"Open In Colab\"/></a>"
   ]
  },
  {
   "cell_type": "markdown",
   "metadata": {},
   "source": [
    "# Data Quality and Cleanliness\n",
    "\n",
    "MINE-4101: Applied Data Science  \n",
    "Univerisdad de los Andes \n",
    "\n",
    "Juan Sebastian Parrado - 201531947\n",
    "  \n",
    "**Dataset:** Homicides Colombia ([datos.gov.co](datos.gov.co))\n",
    "  \n",
    "Last update: September, 2023"
   ]
  },
  {
   "cell_type": "code",
   "execution_count": 1,
   "metadata": {},
   "outputs": [
    {
     "name": "stdout",
     "output_type": "stream",
     "text": [
      "Collecting pylev\n",
      "  Downloading pylev-1.4.0-py2.py3-none-any.whl (6.1 kB)\n",
      "Installing collected packages: pylev\n",
      "Successfully installed pylev-1.4.0\n"
     ]
    }
   ],
   "source": [
    "!pip install pylev"
   ]
  },
  {
   "cell_type": "code",
   "execution_count": 2,
   "metadata": {},
   "outputs": [],
   "source": [
    "import re\n",
    "from random import randint\n",
    "from datetime import datetime\n",
    "from difflib import SequenceMatcher\n",
    "\n",
    "import numpy as np\n",
    "import pandas as pd\n",
    "\n",
    "import pylev"
   ]
  },
  {
   "cell_type": "code",
   "execution_count": 189,
   "metadata": {},
   "outputs": [],
   "source": [
    "pd.set_option(\"display.max_columns\", None)"
   ]
  },
  {
   "cell_type": "markdown",
   "metadata": {},
   "source": [
    "## 1. Loading the data"
   ]
  },
  {
   "cell_type": "code",
   "execution_count": 326,
   "metadata": {},
   "outputs": [],
   "source": [
    "homicides_df = pd.read_csv(\"homicides.csv\")"
   ]
  },
  {
   "cell_type": "code",
   "execution_count": 327,
   "metadata": {},
   "outputs": [
    {
     "data": {
      "text/plain": [
       "(12400, 22)"
      ]
     },
     "execution_count": 327,
     "metadata": {},
     "output_type": "execute_result"
    }
   ],
   "source": [
    "homicides_df.shape"
   ]
  },
  {
   "cell_type": "code",
   "execution_count": 328,
   "metadata": {},
   "outputs": [
    {
     "data": {
      "text/plain": [
       "FECHA                 object\n",
       "DEPARTAMENTO          object\n",
       "MUNICIPIO             object\n",
       "DIA                   object\n",
       "HORA                  object\n",
       "BARRIO                object\n",
       "ZONA                  object\n",
       "CLASE DE SITIO        object\n",
       "ARMA O MEDIO          object\n",
       "MOVIL VICTIMA         object\n",
       "MOVIL AGRESOR         object\n",
       "EDAD                 float64\n",
       "GENERO                object\n",
       "ESTADO CIVIL          object\n",
       "CLASE EMPLEADO        object\n",
       "PROFESION             object\n",
       "ESCOLARIDAD           object\n",
       "PAIS NACE             object\n",
       "CODIGO DANE          float64\n",
       "AÑO DE NACIMIENTO    float64\n",
       "CÉDULA                object\n",
       "CORREO                object\n",
       "dtype: object"
      ]
     },
     "execution_count": 328,
     "metadata": {},
     "output_type": "execute_result"
    }
   ],
   "source": [
    "homicides_df.dtypes"
   ]
  },
  {
   "cell_type": "code",
   "execution_count": 329,
   "metadata": {
    "scrolled": true
   },
   "outputs": [
    {
     "data": {
      "text/html": [
       "<div>\n",
       "<style scoped>\n",
       "    .dataframe tbody tr th:only-of-type {\n",
       "        vertical-align: middle;\n",
       "    }\n",
       "\n",
       "    .dataframe tbody tr th {\n",
       "        vertical-align: top;\n",
       "    }\n",
       "\n",
       "    .dataframe thead th {\n",
       "        text-align: right;\n",
       "    }\n",
       "</style>\n",
       "<table border=\"1\" class=\"dataframe\">\n",
       "  <thead>\n",
       "    <tr style=\"text-align: right;\">\n",
       "      <th></th>\n",
       "      <th>FECHA</th>\n",
       "      <th>DEPARTAMENTO</th>\n",
       "      <th>MUNICIPIO</th>\n",
       "      <th>DIA</th>\n",
       "      <th>HORA</th>\n",
       "      <th>BARRIO</th>\n",
       "      <th>ZONA</th>\n",
       "      <th>CLASE DE SITIO</th>\n",
       "      <th>ARMA O MEDIO</th>\n",
       "      <th>MOVIL VICTIMA</th>\n",
       "      <th>MOVIL AGRESOR</th>\n",
       "      <th>EDAD</th>\n",
       "      <th>GENERO</th>\n",
       "      <th>ESTADO CIVIL</th>\n",
       "      <th>CLASE EMPLEADO</th>\n",
       "      <th>PROFESION</th>\n",
       "      <th>ESCOLARIDAD</th>\n",
       "      <th>PAIS NACE</th>\n",
       "      <th>CODIGO DANE</th>\n",
       "      <th>AÑO DE NACIMIENTO</th>\n",
       "      <th>CÉDULA</th>\n",
       "      <th>CORREO</th>\n",
       "    </tr>\n",
       "  </thead>\n",
       "  <tbody>\n",
       "    <tr>\n",
       "      <th>1550</th>\n",
       "      <td>02/15/2021 12:00:00 AM</td>\n",
       "      <td>HUILA</td>\n",
       "      <td>ALGECIRAS</td>\n",
       "      <td>Domingo</td>\n",
       "      <td>8:00</td>\n",
       "      <td>VEREDA EL TORO</td>\n",
       "      <td>RURAL</td>\n",
       "      <td>GALLERA</td>\n",
       "      <td>ARMA BLANCA</td>\n",
       "      <td>A PIE</td>\n",
       "      <td>A PIE</td>\n",
       "      <td>36.0</td>\n",
       "      <td>MASCULINO</td>\n",
       "      <td>SOLTERO</td>\n",
       "      <td>AGRICULTOR</td>\n",
       "      <td>NO REPORTADO</td>\n",
       "      <td>PRIMARIA</td>\n",
       "      <td>COLOMBIA</td>\n",
       "      <td>41020000.0</td>\n",
       "      <td>1979.0</td>\n",
       "      <td>33-216</td>\n",
       "      <td>asadmo2358@gmail.com</td>\n",
       "    </tr>\n",
       "    <tr>\n",
       "      <th>399</th>\n",
       "      <td>01/10/2021 12:00:00 AM</td>\n",
       "      <td>VALLE</td>\n",
       "      <td>CALI (CT)</td>\n",
       "      <td>Sábado</td>\n",
       "      <td>8:05</td>\n",
       "      <td>VALLADO E15</td>\n",
       "      <td>RURAL</td>\n",
       "      <td>LOTE BALDIO</td>\n",
       "      <td>ARMA BLANCA</td>\n",
       "      <td>A PIE</td>\n",
       "      <td>A PIE</td>\n",
       "      <td>14.0</td>\n",
       "      <td>MASCULINO</td>\n",
       "      <td>SOLTERO</td>\n",
       "      <td>DESEMPLEADO</td>\n",
       "      <td>NO REPORTADO</td>\n",
       "      <td>SECUNDARIA</td>\n",
       "      <td>COLOMBIA</td>\n",
       "      <td>76001000.0</td>\n",
       "      <td>2001.0</td>\n",
       "      <td>19-335</td>\n",
       "      <td>koinut6290@unidatos.edu.co</td>\n",
       "    </tr>\n",
       "    <tr>\n",
       "      <th>8583</th>\n",
       "      <td>09/13/2021 12:00:00 AM</td>\n",
       "      <td>CUNDINAMARCA</td>\n",
       "      <td>FACATATIVÁ</td>\n",
       "      <td>Domingo</td>\n",
       "      <td>2:00</td>\n",
       "      <td>CENTRO</td>\n",
       "      <td>URBANA</td>\n",
       "      <td>VIAS PUBLICAS</td>\n",
       "      <td>ARMA BLANCA</td>\n",
       "      <td>A PIE</td>\n",
       "      <td>A PIE</td>\n",
       "      <td>26.0</td>\n",
       "      <td>MASCULINO</td>\n",
       "      <td>UNION LIBRE</td>\n",
       "      <td>EMPLEADO PARTICULAR</td>\n",
       "      <td>NO REPORTADO</td>\n",
       "      <td>SECUNDARIA</td>\n",
       "      <td>COLOMBIA</td>\n",
       "      <td>25269000.0</td>\n",
       "      <td>1989.0</td>\n",
       "      <td>47-806</td>\n",
       "      <td>ireepq2256@unidatos.edu.co</td>\n",
       "    </tr>\n",
       "    <tr>\n",
       "      <th>6448</th>\n",
       "      <td>07/09/2021 12:00:00 AM</td>\n",
       "      <td>CUNDINAMARCA</td>\n",
       "      <td>FACATATIVÁ</td>\n",
       "      <td>Juees</td>\n",
       "      <td>12:18</td>\n",
       "      <td>SANTA RITA</td>\n",
       "      <td>URBANA</td>\n",
       "      <td>VIAS PUBLICAS</td>\n",
       "      <td>ARMA DE FUEGO</td>\n",
       "      <td>A PIE</td>\n",
       "      <td>A PIE</td>\n",
       "      <td>40.0</td>\n",
       "      <td>MASCULINO</td>\n",
       "      <td>UNION LIBRE</td>\n",
       "      <td>COMERCIANTE</td>\n",
       "      <td>NO REPORTADO</td>\n",
       "      <td>SECUNDARIA</td>\n",
       "      <td>COLOMBIA</td>\n",
       "      <td>25269000.0</td>\n",
       "      <td>1975.0</td>\n",
       "      <td>90-176</td>\n",
       "      <td>platap4221@gmail.com</td>\n",
       "    </tr>\n",
       "    <tr>\n",
       "      <th>8110</th>\n",
       "      <td>08/29/2021 12:00:00 AM</td>\n",
       "      <td>META</td>\n",
       "      <td>VILLAVICENCIO (CT)</td>\n",
       "      <td>Sábado</td>\n",
       "      <td>22:00</td>\n",
       "      <td>LA ESPERANZA</td>\n",
       "      <td>URBANA</td>\n",
       "      <td>VIAS PUBLICAS</td>\n",
       "      <td>ARMA DE FUEGO</td>\n",
       "      <td>A PIE</td>\n",
       "      <td>A PIE</td>\n",
       "      <td>36.0</td>\n",
       "      <td>MASCULINO</td>\n",
       "      <td>SOLTERO</td>\n",
       "      <td>INDEPENDIENTE</td>\n",
       "      <td>NO REPORTADO</td>\n",
       "      <td>SECUNDARIA</td>\n",
       "      <td>COLOMBIA</td>\n",
       "      <td>50001000.0</td>\n",
       "      <td>1979.0</td>\n",
       "      <td>71-563</td>\n",
       "      <td>eqkqji4568@gmail.com</td>\n",
       "    </tr>\n",
       "  </tbody>\n",
       "</table>\n",
       "</div>"
      ],
      "text/plain": [
       "                       FECHA  DEPARTAMENTO           MUNICIPIO      DIA  \\\n",
       "1550  02/15/2021 12:00:00 AM         HUILA           ALGECIRAS  Domingo   \n",
       "399   01/10/2021 12:00:00 AM         VALLE           CALI (CT)   Sábado   \n",
       "8583  09/13/2021 12:00:00 AM  CUNDINAMARCA          FACATATIVÁ  Domingo   \n",
       "6448  07/09/2021 12:00:00 AM  CUNDINAMARCA          FACATATIVÁ    Juees   \n",
       "8110  08/29/2021 12:00:00 AM          META  VILLAVICENCIO (CT)   Sábado   \n",
       "\n",
       "       HORA          BARRIO    ZONA CLASE DE SITIO   ARMA O MEDIO  \\\n",
       "1550   8:00  VEREDA EL TORO   RURAL        GALLERA    ARMA BLANCA   \n",
       "399    8:05     VALLADO E15   RURAL    LOTE BALDIO    ARMA BLANCA   \n",
       "8583   2:00          CENTRO  URBANA  VIAS PUBLICAS    ARMA BLANCA   \n",
       "6448  12:18      SANTA RITA  URBANA  VIAS PUBLICAS  ARMA DE FUEGO   \n",
       "8110  22:00    LA ESPERANZA  URBANA  VIAS PUBLICAS  ARMA DE FUEGO   \n",
       "\n",
       "     MOVIL VICTIMA MOVIL AGRESOR  EDAD     GENERO ESTADO CIVIL  \\\n",
       "1550         A PIE         A PIE  36.0  MASCULINO      SOLTERO   \n",
       "399          A PIE         A PIE  14.0  MASCULINO      SOLTERO   \n",
       "8583         A PIE         A PIE  26.0  MASCULINO  UNION LIBRE   \n",
       "6448         A PIE         A PIE  40.0  MASCULINO  UNION LIBRE   \n",
       "8110         A PIE         A PIE  36.0  MASCULINO      SOLTERO   \n",
       "\n",
       "           CLASE EMPLEADO     PROFESION ESCOLARIDAD PAIS NACE  CODIGO DANE  \\\n",
       "1550           AGRICULTOR  NO REPORTADO    PRIMARIA  COLOMBIA   41020000.0   \n",
       "399           DESEMPLEADO  NO REPORTADO  SECUNDARIA  COLOMBIA   76001000.0   \n",
       "8583  EMPLEADO PARTICULAR  NO REPORTADO  SECUNDARIA  COLOMBIA   25269000.0   \n",
       "6448          COMERCIANTE  NO REPORTADO  SECUNDARIA  COLOMBIA   25269000.0   \n",
       "8110        INDEPENDIENTE  NO REPORTADO  SECUNDARIA  COLOMBIA   50001000.0   \n",
       "\n",
       "      AÑO DE NACIMIENTO  CÉDULA                      CORREO  \n",
       "1550             1979.0  33-216        asadmo2358@gmail.com  \n",
       "399              2001.0  19-335  koinut6290@unidatos.edu.co  \n",
       "8583             1989.0  47-806  ireepq2256@unidatos.edu.co  \n",
       "6448             1975.0  90-176        platap4221@gmail.com  \n",
       "8110             1979.0  71-563        eqkqji4568@gmail.com  "
      ]
     },
     "execution_count": 329,
     "metadata": {},
     "output_type": "execute_result"
    }
   ],
   "source": [
    "homicides_df.sample(5)"
   ]
  },
  {
   "cell_type": "markdown",
   "metadata": {},
   "source": [
    "## 2. Working with datetimes"
   ]
  },
  {
   "cell_type": "code",
   "execution_count": 330,
   "metadata": {},
   "outputs": [],
   "source": [
    "# Creating a lambda expression for datetime parsing\n",
    "dateparse = lambda x: datetime.strptime(x, \"%m/%d/%Y %H:%M:%S %p\")"
   ]
  },
  {
   "cell_type": "code",
   "execution_count": 331,
   "metadata": {
    "scrolled": true
   },
   "outputs": [
    {
     "ename": "ValueError",
     "evalue": "time data '13/12/2021 12:00:00 AM' does not match format '%m/%d/%Y %H:%M:%S %p'",
     "output_type": "error",
     "traceback": [
      "\u001b[1;31m---------------------------------------------------------------------------\u001b[0m",
      "\u001b[1;31mValueError\u001b[0m                                Traceback (most recent call last)",
      "Cell \u001b[1;32mIn[331], line 2\u001b[0m\n\u001b[0;32m      1\u001b[0m \u001b[38;5;66;03m# Applying the validation to all values in the column\u001b[39;00m\n\u001b[1;32m----> 2\u001b[0m homicides_df[\u001b[38;5;124m\"\u001b[39m\u001b[38;5;124mFECHA\u001b[39m\u001b[38;5;124m\"\u001b[39m]\u001b[38;5;241m.\u001b[39mapply(dateparse)\n",
      "File \u001b[1;32m~\\AppData\\Local\\anaconda3\\Lib\\site-packages\\pandas\\core\\series.py:4771\u001b[0m, in \u001b[0;36mSeries.apply\u001b[1;34m(self, func, convert_dtype, args, **kwargs)\u001b[0m\n\u001b[0;32m   4661\u001b[0m \u001b[38;5;28;01mdef\u001b[39;00m \u001b[38;5;21mapply\u001b[39m(\n\u001b[0;32m   4662\u001b[0m     \u001b[38;5;28mself\u001b[39m,\n\u001b[0;32m   4663\u001b[0m     func: AggFuncType,\n\u001b[1;32m   (...)\u001b[0m\n\u001b[0;32m   4666\u001b[0m     \u001b[38;5;241m*\u001b[39m\u001b[38;5;241m*\u001b[39mkwargs,\n\u001b[0;32m   4667\u001b[0m ) \u001b[38;5;241m-\u001b[39m\u001b[38;5;241m>\u001b[39m DataFrame \u001b[38;5;241m|\u001b[39m Series:\n\u001b[0;32m   4668\u001b[0m \u001b[38;5;250m    \u001b[39m\u001b[38;5;124;03m\"\"\"\u001b[39;00m\n\u001b[0;32m   4669\u001b[0m \u001b[38;5;124;03m    Invoke function on values of Series.\u001b[39;00m\n\u001b[0;32m   4670\u001b[0m \n\u001b[1;32m   (...)\u001b[0m\n\u001b[0;32m   4769\u001b[0m \u001b[38;5;124;03m    dtype: float64\u001b[39;00m\n\u001b[0;32m   4770\u001b[0m \u001b[38;5;124;03m    \"\"\"\u001b[39;00m\n\u001b[1;32m-> 4771\u001b[0m     \u001b[38;5;28;01mreturn\u001b[39;00m SeriesApply(\u001b[38;5;28mself\u001b[39m, func, convert_dtype, args, kwargs)\u001b[38;5;241m.\u001b[39mapply()\n",
      "File \u001b[1;32m~\\AppData\\Local\\anaconda3\\Lib\\site-packages\\pandas\\core\\apply.py:1123\u001b[0m, in \u001b[0;36mSeriesApply.apply\u001b[1;34m(self)\u001b[0m\n\u001b[0;32m   1120\u001b[0m     \u001b[38;5;28;01mreturn\u001b[39;00m \u001b[38;5;28mself\u001b[39m\u001b[38;5;241m.\u001b[39mapply_str()\n\u001b[0;32m   1122\u001b[0m \u001b[38;5;66;03m# self.f is Callable\u001b[39;00m\n\u001b[1;32m-> 1123\u001b[0m \u001b[38;5;28;01mreturn\u001b[39;00m \u001b[38;5;28mself\u001b[39m\u001b[38;5;241m.\u001b[39mapply_standard()\n",
      "File \u001b[1;32m~\\AppData\\Local\\anaconda3\\Lib\\site-packages\\pandas\\core\\apply.py:1174\u001b[0m, in \u001b[0;36mSeriesApply.apply_standard\u001b[1;34m(self)\u001b[0m\n\u001b[0;32m   1172\u001b[0m     \u001b[38;5;28;01melse\u001b[39;00m:\n\u001b[0;32m   1173\u001b[0m         values \u001b[38;5;241m=\u001b[39m obj\u001b[38;5;241m.\u001b[39mastype(\u001b[38;5;28mobject\u001b[39m)\u001b[38;5;241m.\u001b[39m_values\n\u001b[1;32m-> 1174\u001b[0m         mapped \u001b[38;5;241m=\u001b[39m lib\u001b[38;5;241m.\u001b[39mmap_infer(\n\u001b[0;32m   1175\u001b[0m             values,\n\u001b[0;32m   1176\u001b[0m             f,\n\u001b[0;32m   1177\u001b[0m             convert\u001b[38;5;241m=\u001b[39m\u001b[38;5;28mself\u001b[39m\u001b[38;5;241m.\u001b[39mconvert_dtype,\n\u001b[0;32m   1178\u001b[0m         )\n\u001b[0;32m   1180\u001b[0m \u001b[38;5;28;01mif\u001b[39;00m \u001b[38;5;28mlen\u001b[39m(mapped) \u001b[38;5;129;01mand\u001b[39;00m \u001b[38;5;28misinstance\u001b[39m(mapped[\u001b[38;5;241m0\u001b[39m], ABCSeries):\n\u001b[0;32m   1181\u001b[0m     \u001b[38;5;66;03m# GH#43986 Need to do list(mapped) in order to get treated as nested\u001b[39;00m\n\u001b[0;32m   1182\u001b[0m     \u001b[38;5;66;03m#  See also GH#25959 regarding EA support\u001b[39;00m\n\u001b[0;32m   1183\u001b[0m     \u001b[38;5;28;01mreturn\u001b[39;00m obj\u001b[38;5;241m.\u001b[39m_constructor_expanddim(\u001b[38;5;28mlist\u001b[39m(mapped), index\u001b[38;5;241m=\u001b[39mobj\u001b[38;5;241m.\u001b[39mindex)\n",
      "File \u001b[1;32m~\\AppData\\Local\\anaconda3\\Lib\\site-packages\\pandas\\_libs\\lib.pyx:2924\u001b[0m, in \u001b[0;36mpandas._libs.lib.map_infer\u001b[1;34m()\u001b[0m\n",
      "Cell \u001b[1;32mIn[330], line 2\u001b[0m, in \u001b[0;36m<lambda>\u001b[1;34m(x)\u001b[0m\n\u001b[0;32m      1\u001b[0m \u001b[38;5;66;03m# Creating a lambda expression for datetime parsing\u001b[39;00m\n\u001b[1;32m----> 2\u001b[0m dateparse \u001b[38;5;241m=\u001b[39m \u001b[38;5;28;01mlambda\u001b[39;00m x: datetime\u001b[38;5;241m.\u001b[39mstrptime(x, \u001b[38;5;124m\"\u001b[39m\u001b[38;5;124m%\u001b[39m\u001b[38;5;124mm/\u001b[39m\u001b[38;5;132;01m%d\u001b[39;00m\u001b[38;5;124m/\u001b[39m\u001b[38;5;124m%\u001b[39m\u001b[38;5;124mY \u001b[39m\u001b[38;5;124m%\u001b[39m\u001b[38;5;124mH:\u001b[39m\u001b[38;5;124m%\u001b[39m\u001b[38;5;124mM:\u001b[39m\u001b[38;5;124m%\u001b[39m\u001b[38;5;124mS \u001b[39m\u001b[38;5;124m%\u001b[39m\u001b[38;5;124mp\u001b[39m\u001b[38;5;124m\"\u001b[39m)\n",
      "File \u001b[1;32m~\\AppData\\Local\\anaconda3\\Lib\\_strptime.py:568\u001b[0m, in \u001b[0;36m_strptime_datetime\u001b[1;34m(cls, data_string, format)\u001b[0m\n\u001b[0;32m    565\u001b[0m \u001b[38;5;28;01mdef\u001b[39;00m \u001b[38;5;21m_strptime_datetime\u001b[39m(\u001b[38;5;28mcls\u001b[39m, data_string, \u001b[38;5;28mformat\u001b[39m\u001b[38;5;241m=\u001b[39m\u001b[38;5;124m\"\u001b[39m\u001b[38;5;132;01m%a\u001b[39;00m\u001b[38;5;124m \u001b[39m\u001b[38;5;124m%\u001b[39m\u001b[38;5;124mb \u001b[39m\u001b[38;5;132;01m%d\u001b[39;00m\u001b[38;5;124m \u001b[39m\u001b[38;5;124m%\u001b[39m\u001b[38;5;124mH:\u001b[39m\u001b[38;5;124m%\u001b[39m\u001b[38;5;124mM:\u001b[39m\u001b[38;5;124m%\u001b[39m\u001b[38;5;124mS \u001b[39m\u001b[38;5;124m%\u001b[39m\u001b[38;5;124mY\u001b[39m\u001b[38;5;124m\"\u001b[39m):\n\u001b[0;32m    566\u001b[0m \u001b[38;5;250m    \u001b[39m\u001b[38;5;124;03m\"\"\"Return a class cls instance based on the input string and the\u001b[39;00m\n\u001b[0;32m    567\u001b[0m \u001b[38;5;124;03m    format string.\"\"\"\u001b[39;00m\n\u001b[1;32m--> 568\u001b[0m     tt, fraction, gmtoff_fraction \u001b[38;5;241m=\u001b[39m _strptime(data_string, \u001b[38;5;28mformat\u001b[39m)\n\u001b[0;32m    569\u001b[0m     tzname, gmtoff \u001b[38;5;241m=\u001b[39m tt[\u001b[38;5;241m-\u001b[39m\u001b[38;5;241m2\u001b[39m:]\n\u001b[0;32m    570\u001b[0m     args \u001b[38;5;241m=\u001b[39m tt[:\u001b[38;5;241m6\u001b[39m] \u001b[38;5;241m+\u001b[39m (fraction,)\n",
      "File \u001b[1;32m~\\AppData\\Local\\anaconda3\\Lib\\_strptime.py:349\u001b[0m, in \u001b[0;36m_strptime\u001b[1;34m(data_string, format)\u001b[0m\n\u001b[0;32m    347\u001b[0m found \u001b[38;5;241m=\u001b[39m format_regex\u001b[38;5;241m.\u001b[39mmatch(data_string)\n\u001b[0;32m    348\u001b[0m \u001b[38;5;28;01mif\u001b[39;00m \u001b[38;5;129;01mnot\u001b[39;00m found:\n\u001b[1;32m--> 349\u001b[0m     \u001b[38;5;28;01mraise\u001b[39;00m \u001b[38;5;167;01mValueError\u001b[39;00m(\u001b[38;5;124m\"\u001b[39m\u001b[38;5;124mtime data \u001b[39m\u001b[38;5;132;01m%r\u001b[39;00m\u001b[38;5;124m does not match format \u001b[39m\u001b[38;5;132;01m%r\u001b[39;00m\u001b[38;5;124m\"\u001b[39m \u001b[38;5;241m%\u001b[39m\n\u001b[0;32m    350\u001b[0m                      (data_string, \u001b[38;5;28mformat\u001b[39m))\n\u001b[0;32m    351\u001b[0m \u001b[38;5;28;01mif\u001b[39;00m \u001b[38;5;28mlen\u001b[39m(data_string) \u001b[38;5;241m!=\u001b[39m found\u001b[38;5;241m.\u001b[39mend():\n\u001b[0;32m    352\u001b[0m     \u001b[38;5;28;01mraise\u001b[39;00m \u001b[38;5;167;01mValueError\u001b[39;00m(\u001b[38;5;124m\"\u001b[39m\u001b[38;5;124munconverted data remains: \u001b[39m\u001b[38;5;132;01m%s\u001b[39;00m\u001b[38;5;124m\"\u001b[39m \u001b[38;5;241m%\u001b[39m\n\u001b[0;32m    353\u001b[0m                       data_string[found\u001b[38;5;241m.\u001b[39mend():])\n",
      "\u001b[1;31mValueError\u001b[0m: time data '13/12/2021 12:00:00 AM' does not match format '%m/%d/%Y %H:%M:%S %p'"
     ]
    }
   ],
   "source": [
    "# Applying the validation to all values in the column\n",
    "homicides_df[\"FECHA\"].apply(dateparse)\n",
    "\n",
    "# IT IS EXPECTED TO HAVE AN ERROR BECAUSE SOME VALUES DOESN'T FIT THE FORMAT"
   ]
  },
  {
   "cell_type": "code",
   "execution_count": 332,
   "metadata": {},
   "outputs": [],
   "source": [
    "# Creating a function for validating which value is causing the previous error\n",
    "def error_in_format(x):\n",
    "    try:\n",
    "        datetime.strptime(x, \"%m/%d/%Y %H:%M:%S %p\")\n",
    "        return False\n",
    "    except:\n",
    "        return True"
   ]
  },
  {
   "cell_type": "code",
   "execution_count": 333,
   "metadata": {
    "scrolled": false
   },
   "outputs": [
    {
     "data": {
      "text/html": [
       "<div>\n",
       "<style scoped>\n",
       "    .dataframe tbody tr th:only-of-type {\n",
       "        vertical-align: middle;\n",
       "    }\n",
       "\n",
       "    .dataframe tbody tr th {\n",
       "        vertical-align: top;\n",
       "    }\n",
       "\n",
       "    .dataframe thead th {\n",
       "        text-align: right;\n",
       "    }\n",
       "</style>\n",
       "<table border=\"1\" class=\"dataframe\">\n",
       "  <thead>\n",
       "    <tr style=\"text-align: right;\">\n",
       "      <th></th>\n",
       "      <th>FECHA</th>\n",
       "      <th>DEPARTAMENTO</th>\n",
       "      <th>MUNICIPIO</th>\n",
       "      <th>DIA</th>\n",
       "      <th>HORA</th>\n",
       "      <th>BARRIO</th>\n",
       "      <th>ZONA</th>\n",
       "      <th>CLASE DE SITIO</th>\n",
       "      <th>ARMA O MEDIO</th>\n",
       "      <th>MOVIL VICTIMA</th>\n",
       "      <th>MOVIL AGRESOR</th>\n",
       "      <th>EDAD</th>\n",
       "      <th>GENERO</th>\n",
       "      <th>ESTADO CIVIL</th>\n",
       "      <th>CLASE EMPLEADO</th>\n",
       "      <th>PROFESION</th>\n",
       "      <th>ESCOLARIDAD</th>\n",
       "      <th>PAIS NACE</th>\n",
       "      <th>CODIGO DANE</th>\n",
       "      <th>AÑO DE NACIMIENTO</th>\n",
       "      <th>CÉDULA</th>\n",
       "      <th>CORREO</th>\n",
       "    </tr>\n",
       "  </thead>\n",
       "  <tbody>\n",
       "    <tr>\n",
       "      <th>486</th>\n",
       "      <td>13/12/2021 12:00:00 AM</td>\n",
       "      <td>VALLE</td>\n",
       "      <td>CALI (CT)</td>\n",
       "      <td>kunes</td>\n",
       "      <td>23:00</td>\n",
       "      <td>MOJICA E15</td>\n",
       "      <td>URBANA</td>\n",
       "      <td>VIAS PUBLICAS</td>\n",
       "      <td>ARMA DE FUEGO</td>\n",
       "      <td>A PIE</td>\n",
       "      <td>A PIE</td>\n",
       "      <td>26.0</td>\n",
       "      <td>MASCULINO</td>\n",
       "      <td>SOLTERO</td>\n",
       "      <td>INDEPENDIENTE</td>\n",
       "      <td>NO REPORTADO</td>\n",
       "      <td>SECUNDARIA</td>\n",
       "      <td>COLOMBIA</td>\n",
       "      <td>76001000.0</td>\n",
       "      <td>89.0</td>\n",
       "      <td>80-330</td>\n",
       "      <td>lujhdf9132@gmail.com</td>\n",
       "    </tr>\n",
       "    <tr>\n",
       "      <th>695</th>\n",
       "      <td>30/01/2021 12:00:00 AM</td>\n",
       "      <td>BOLÍVAR</td>\n",
       "      <td>CARTAGENA (CT)</td>\n",
       "      <td>Lunes</td>\n",
       "      <td>5:30</td>\n",
       "      <td>REP. DEL LIBANO</td>\n",
       "      <td>URBANA</td>\n",
       "      <td>VIAS PUBLICAS</td>\n",
       "      <td>ARMA BLANCA</td>\n",
       "      <td>NO REPORTADO</td>\n",
       "      <td>A PIE</td>\n",
       "      <td>25.0</td>\n",
       "      <td>MASCULINO</td>\n",
       "      <td>SOLTERO</td>\n",
       "      <td>EMPLEADO PARTICULAR</td>\n",
       "      <td>NO REPORTADO</td>\n",
       "      <td>SECUNDARIA</td>\n",
       "      <td>COLOMBIA</td>\n",
       "      <td>13001000.0</td>\n",
       "      <td>1990.0</td>\n",
       "      <td>12-915</td>\n",
       "      <td>ghumtg4094@unidatos.edu.co</td>\n",
       "    </tr>\n",
       "    <tr>\n",
       "      <th>1250</th>\n",
       "      <td>18/05/2021 12:00:00 AM</td>\n",
       "      <td>HUILA</td>\n",
       "      <td>TESALIA</td>\n",
       "      <td>Jueves</td>\n",
       "      <td>19:30</td>\n",
       "      <td>VEREDA PACARNI</td>\n",
       "      <td>RURAL</td>\n",
       "      <td>CASAS DE HABITACION</td>\n",
       "      <td>ARMA DE FUEGO</td>\n",
       "      <td>A PIE</td>\n",
       "      <td>A PIE</td>\n",
       "      <td>34.0</td>\n",
       "      <td>FEMENINO</td>\n",
       "      <td>SOLTERO</td>\n",
       "      <td>AGRICULTOR</td>\n",
       "      <td>NO REPORTADO</td>\n",
       "      <td>PRIMARIA</td>\n",
       "      <td>COLOMBIA</td>\n",
       "      <td>41797000.0</td>\n",
       "      <td>1981.0</td>\n",
       "      <td>99-095</td>\n",
       "      <td>sdaggf6639@gmail.com</td>\n",
       "    </tr>\n",
       "    <tr>\n",
       "      <th>12168</th>\n",
       "      <td>12/25/2021 12:00:00 MM</td>\n",
       "      <td>VALLE</td>\n",
       "      <td>PALMIRA</td>\n",
       "      <td>Viernes</td>\n",
       "      <td>15:30</td>\n",
       "      <td>LA EMILIA</td>\n",
       "      <td>URBANA</td>\n",
       "      <td>VIAS PUBLICAS</td>\n",
       "      <td>ARMA DE FUEGO</td>\n",
       "      <td>A PIE</td>\n",
       "      <td>CONDUCTOR MOTOCICLETA</td>\n",
       "      <td>17.0</td>\n",
       "      <td>MASCULINO</td>\n",
       "      <td>SOLTERO</td>\n",
       "      <td>EMPLEADO PARTICULAR</td>\n",
       "      <td>NO REPORTADO</td>\n",
       "      <td>SECUNDARIA</td>\n",
       "      <td>COLOMBIA</td>\n",
       "      <td>76520000.0</td>\n",
       "      <td>1998.0</td>\n",
       "      <td>16-362</td>\n",
       "      <td>uschca1775@gmail.com</td>\n",
       "    </tr>\n",
       "    <tr>\n",
       "      <th>12399</th>\n",
       "      <td>TOTAL</td>\n",
       "      <td>NaN</td>\n",
       "      <td>NaN</td>\n",
       "      <td>NaN</td>\n",
       "      <td>NaN</td>\n",
       "      <td>NaN</td>\n",
       "      <td>NaN</td>\n",
       "      <td>NaN</td>\n",
       "      <td>NaN</td>\n",
       "      <td>NaN</td>\n",
       "      <td>NaN</td>\n",
       "      <td>NaN</td>\n",
       "      <td>NaN</td>\n",
       "      <td>NaN</td>\n",
       "      <td>NaN</td>\n",
       "      <td>NaN</td>\n",
       "      <td>NaN</td>\n",
       "      <td>NaN</td>\n",
       "      <td>NaN</td>\n",
       "      <td>NaN</td>\n",
       "      <td>NaN</td>\n",
       "      <td>NaN</td>\n",
       "    </tr>\n",
       "  </tbody>\n",
       "</table>\n",
       "</div>"
      ],
      "text/plain": [
       "                        FECHA DEPARTAMENTO       MUNICIPIO      DIA   HORA  \\\n",
       "486    13/12/2021 12:00:00 AM        VALLE       CALI (CT)    kunes  23:00   \n",
       "695    30/01/2021 12:00:00 AM      BOLÍVAR  CARTAGENA (CT)    Lunes   5:30   \n",
       "1250   18/05/2021 12:00:00 AM        HUILA         TESALIA   Jueves  19:30   \n",
       "12168  12/25/2021 12:00:00 MM        VALLE         PALMIRA  Viernes  15:30   \n",
       "12399                   TOTAL          NaN             NaN      NaN    NaN   \n",
       "\n",
       "                BARRIO    ZONA       CLASE DE SITIO   ARMA O MEDIO  \\\n",
       "486         MOJICA E15  URBANA        VIAS PUBLICAS  ARMA DE FUEGO   \n",
       "695    REP. DEL LIBANO  URBANA        VIAS PUBLICAS    ARMA BLANCA   \n",
       "1250    VEREDA PACARNI   RURAL  CASAS DE HABITACION  ARMA DE FUEGO   \n",
       "12168        LA EMILIA  URBANA        VIAS PUBLICAS  ARMA DE FUEGO   \n",
       "12399              NaN     NaN                  NaN            NaN   \n",
       "\n",
       "      MOVIL VICTIMA          MOVIL AGRESOR  EDAD     GENERO ESTADO CIVIL  \\\n",
       "486           A PIE                  A PIE  26.0  MASCULINO      SOLTERO   \n",
       "695    NO REPORTADO                  A PIE  25.0  MASCULINO      SOLTERO   \n",
       "1250          A PIE                  A PIE  34.0   FEMENINO      SOLTERO   \n",
       "12168         A PIE  CONDUCTOR MOTOCICLETA  17.0  MASCULINO      SOLTERO   \n",
       "12399           NaN                    NaN   NaN        NaN          NaN   \n",
       "\n",
       "            CLASE EMPLEADO     PROFESION ESCOLARIDAD PAIS NACE  CODIGO DANE  \\\n",
       "486          INDEPENDIENTE  NO REPORTADO  SECUNDARIA  COLOMBIA   76001000.0   \n",
       "695    EMPLEADO PARTICULAR  NO REPORTADO  SECUNDARIA  COLOMBIA   13001000.0   \n",
       "1250            AGRICULTOR  NO REPORTADO    PRIMARIA  COLOMBIA   41797000.0   \n",
       "12168  EMPLEADO PARTICULAR  NO REPORTADO  SECUNDARIA  COLOMBIA   76520000.0   \n",
       "12399                  NaN           NaN         NaN       NaN          NaN   \n",
       "\n",
       "       AÑO DE NACIMIENTO  CÉDULA                      CORREO  \n",
       "486                 89.0  80-330        lujhdf9132@gmail.com  \n",
       "695               1990.0  12-915  ghumtg4094@unidatos.edu.co  \n",
       "1250              1981.0  99-095        sdaggf6639@gmail.com  \n",
       "12168             1998.0  16-362        uschca1775@gmail.com  \n",
       "12399                NaN     NaN                         NaN  "
      ]
     },
     "execution_count": 333,
     "metadata": {},
     "output_type": "execute_result"
    }
   ],
   "source": [
    "# Using the function for validation\n",
    "homicides_df.loc[homicides_df[\"FECHA\"].apply(error_in_format)]"
   ]
  },
  {
   "cell_type": "code",
   "execution_count": 334,
   "metadata": {},
   "outputs": [
    {
     "name": "stdout",
     "output_type": "stream",
     "text": [
      "Number of rows: 5\n",
      "Number of columns: 22\n"
     ]
    }
   ],
   "source": [
    "filtered_df = homicides_df.loc[homicides_df[\"FECHA\"].apply(error_in_format)]\n",
    "dimensions = filtered_df.shape\n",
    "\n",
    "print(\"Number of rows:\", dimensions[0])\n",
    "print(\"Number of columns:\", dimensions[1])"
   ]
  },
  {
   "cell_type": "code",
   "execution_count": 335,
   "metadata": {},
   "outputs": [],
   "source": [
    "# Deleting a row by its index\n",
    "homicides_df.drop([486, 695, 1250, 12168, 12399], inplace=True)"
   ]
  },
  {
   "cell_type": "code",
   "execution_count": 336,
   "metadata": {},
   "outputs": [],
   "source": [
    "# Trying to parse the datetime string again\n",
    "homicides_df[\"FECHA\"] = homicides_df[\"FECHA\"].apply(dateparse)"
   ]
  },
  {
   "cell_type": "code",
   "execution_count": 337,
   "metadata": {},
   "outputs": [
    {
     "data": {
      "text/plain": [
       "FECHA                datetime64[ns]\n",
       "DEPARTAMENTO                 object\n",
       "MUNICIPIO                    object\n",
       "DIA                          object\n",
       "HORA                         object\n",
       "BARRIO                       object\n",
       "ZONA                         object\n",
       "CLASE DE SITIO               object\n",
       "ARMA O MEDIO                 object\n",
       "MOVIL VICTIMA                object\n",
       "MOVIL AGRESOR                object\n",
       "EDAD                        float64\n",
       "GENERO                       object\n",
       "ESTADO CIVIL                 object\n",
       "CLASE EMPLEADO               object\n",
       "PROFESION                    object\n",
       "ESCOLARIDAD                  object\n",
       "PAIS NACE                    object\n",
       "CODIGO DANE                 float64\n",
       "AÑO DE NACIMIENTO           float64\n",
       "CÉDULA                       object\n",
       "CORREO                       object\n",
       "dtype: object"
      ]
     },
     "execution_count": 337,
     "metadata": {},
     "output_type": "execute_result"
    }
   ],
   "source": [
    "homicides_df.dtypes"
   ]
  },
  {
   "cell_type": "code",
   "execution_count": 338,
   "metadata": {},
   "outputs": [
    {
     "data": {
      "text/plain": [
       "12    12395\n",
       "Name: FECHA, dtype: int64"
      ]
     },
     "execution_count": 338,
     "metadata": {},
     "output_type": "execute_result"
    }
   ],
   "source": [
    "# Counting homicides by hour\n",
    "homicides_df[\"FECHA\"].dt.hour.value_counts()\n",
    "\n",
    "# All datetime hour parts are the same"
   ]
  },
  {
   "cell_type": "markdown",
   "metadata": {},
   "source": [
    "*The homicide hour is available in a different column!*"
   ]
  },
  {
   "cell_type": "code",
   "execution_count": 339,
   "metadata": {},
   "outputs": [],
   "source": [
    "# Merging both columns\n",
    "homicides_df[\"FECHA\"] = homicides_df[\"FECHA\"].astype(str).apply(lambda x: x[:11])+homicides_df[\"HORA\"]"
   ]
  },
  {
   "cell_type": "code",
   "execution_count": 340,
   "metadata": {},
   "outputs": [],
   "source": [
    "# Deleting redundant column\n",
    "homicides_df.drop(columns=[\"HORA\"], inplace=True)"
   ]
  },
  {
   "cell_type": "code",
   "execution_count": 341,
   "metadata": {},
   "outputs": [],
   "source": [
    "# Making a new expression for datetime parsing\n",
    "dateparse = lambda x: datetime.strptime(x, \"%Y-%m-%d %H:%M\")"
   ]
  },
  {
   "cell_type": "code",
   "execution_count": 342,
   "metadata": {},
   "outputs": [],
   "source": [
    "# Applying the expression\n",
    "homicides_df[\"FECHA\"] = homicides_df[\"FECHA\"].apply(dateparse)"
   ]
  },
  {
   "cell_type": "code",
   "execution_count": 343,
   "metadata": {},
   "outputs": [
    {
     "data": {
      "text/plain": [
       "FECHA                datetime64[ns]\n",
       "DEPARTAMENTO                 object\n",
       "MUNICIPIO                    object\n",
       "DIA                          object\n",
       "BARRIO                       object\n",
       "ZONA                         object\n",
       "CLASE DE SITIO               object\n",
       "ARMA O MEDIO                 object\n",
       "MOVIL VICTIMA                object\n",
       "MOVIL AGRESOR                object\n",
       "EDAD                        float64\n",
       "GENERO                       object\n",
       "ESTADO CIVIL                 object\n",
       "CLASE EMPLEADO               object\n",
       "PROFESION                    object\n",
       "ESCOLARIDAD                  object\n",
       "PAIS NACE                    object\n",
       "CODIGO DANE                 float64\n",
       "AÑO DE NACIMIENTO           float64\n",
       "CÉDULA                       object\n",
       "CORREO                       object\n",
       "dtype: object"
      ]
     },
     "execution_count": 343,
     "metadata": {},
     "output_type": "execute_result"
    }
   ],
   "source": [
    "homicides_df.dtypes"
   ]
  },
  {
   "cell_type": "code",
   "execution_count": 344,
   "metadata": {
    "scrolled": true
   },
   "outputs": [
    {
     "data": {
      "text/html": [
       "<div>\n",
       "<style scoped>\n",
       "    .dataframe tbody tr th:only-of-type {\n",
       "        vertical-align: middle;\n",
       "    }\n",
       "\n",
       "    .dataframe tbody tr th {\n",
       "        vertical-align: top;\n",
       "    }\n",
       "\n",
       "    .dataframe thead th {\n",
       "        text-align: right;\n",
       "    }\n",
       "</style>\n",
       "<table border=\"1\" class=\"dataframe\">\n",
       "  <thead>\n",
       "    <tr style=\"text-align: right;\">\n",
       "      <th></th>\n",
       "      <th>FECHA</th>\n",
       "      <th>DEPARTAMENTO</th>\n",
       "      <th>MUNICIPIO</th>\n",
       "      <th>DIA</th>\n",
       "      <th>BARRIO</th>\n",
       "      <th>ZONA</th>\n",
       "      <th>CLASE DE SITIO</th>\n",
       "      <th>ARMA O MEDIO</th>\n",
       "      <th>MOVIL VICTIMA</th>\n",
       "      <th>MOVIL AGRESOR</th>\n",
       "      <th>EDAD</th>\n",
       "      <th>GENERO</th>\n",
       "      <th>ESTADO CIVIL</th>\n",
       "      <th>CLASE EMPLEADO</th>\n",
       "      <th>PROFESION</th>\n",
       "      <th>ESCOLARIDAD</th>\n",
       "      <th>PAIS NACE</th>\n",
       "      <th>CODIGO DANE</th>\n",
       "      <th>AÑO DE NACIMIENTO</th>\n",
       "      <th>CÉDULA</th>\n",
       "      <th>CORREO</th>\n",
       "    </tr>\n",
       "  </thead>\n",
       "  <tbody>\n",
       "    <tr>\n",
       "      <th>8637</th>\n",
       "      <td>2021-09-14 12:32:00</td>\n",
       "      <td>VALLE</td>\n",
       "      <td>TULUÁ</td>\n",
       "      <td>Lunes</td>\n",
       "      <td>Riopaila</td>\n",
       "      <td>URBANA</td>\n",
       "      <td>VIAS PUBLICAS</td>\n",
       "      <td>ARMA DE FUEGO</td>\n",
       "      <td>A PIE</td>\n",
       "      <td>CONDUCTOR MOTOCICLETA</td>\n",
       "      <td>41.0</td>\n",
       "      <td>MASCULINO</td>\n",
       "      <td>UNION LIBRE</td>\n",
       "      <td>EMPLEADO PARTICULAR</td>\n",
       "      <td>NO REPORTADO</td>\n",
       "      <td>SECUNDARIA</td>\n",
       "      <td>COLOMBIA</td>\n",
       "      <td>76834000.0</td>\n",
       "      <td>1974.0</td>\n",
       "      <td>80-394</td>\n",
       "      <td>jrossr8696@gmail.com</td>\n",
       "    </tr>\n",
       "    <tr>\n",
       "      <th>7303</th>\n",
       "      <td>2021-08-03 09:20:00</td>\n",
       "      <td>N. DE SANTANDER</td>\n",
       "      <td>LA ESPERANZA</td>\n",
       "      <td>Lunes</td>\n",
       "      <td>VEREDA CAÑO DE HOYO</td>\n",
       "      <td>RURAL</td>\n",
       "      <td>VIAS PUBLICAS</td>\n",
       "      <td>ARMA DE FUEGO</td>\n",
       "      <td>PASAJERO MOTOCICLETA</td>\n",
       "      <td>VEHICULO</td>\n",
       "      <td>34.0</td>\n",
       "      <td>MASCULINO</td>\n",
       "      <td>SOLTERO</td>\n",
       "      <td>DESEMPLEADO</td>\n",
       "      <td>NO REPORTADO</td>\n",
       "      <td>PRIMARIA</td>\n",
       "      <td>COLOMBIA</td>\n",
       "      <td>54385000.0</td>\n",
       "      <td>1981.0</td>\n",
       "      <td>96-318</td>\n",
       "      <td>correo5241@colombia.gov.co</td>\n",
       "    </tr>\n",
       "    <tr>\n",
       "      <th>2456</th>\n",
       "      <td>2021-03-16 15:00:00</td>\n",
       "      <td>ANTIOQUIA</td>\n",
       "      <td>GUARNE</td>\n",
       "      <td>Lunes</td>\n",
       "      <td>ROMERAL</td>\n",
       "      <td>RURAL</td>\n",
       "      <td>FINCAS Y SIMILARES</td>\n",
       "      <td>BOLSA PLASTICA</td>\n",
       "      <td>A PIE</td>\n",
       "      <td>A PIE</td>\n",
       "      <td>30.0</td>\n",
       "      <td>MASCULINO</td>\n",
       "      <td>UNION LIBRE</td>\n",
       "      <td>EMPLEADO PARTICULAR</td>\n",
       "      <td>NO REPORTADO</td>\n",
       "      <td>SECUNDARIA</td>\n",
       "      <td>COLOMBIA</td>\n",
       "      <td>5318000.0</td>\n",
       "      <td>1985.0</td>\n",
       "      <td>84-001</td>\n",
       "      <td>eitjan1737@gmail.com</td>\n",
       "    </tr>\n",
       "    <tr>\n",
       "      <th>426</th>\n",
       "      <td>2021-01-11 05:59:00</td>\n",
       "      <td>CUNDINAMARCA</td>\n",
       "      <td>GIRARDOT</td>\n",
       "      <td>domnigo</td>\n",
       "      <td>CENTRO</td>\n",
       "      <td>URBANA</td>\n",
       "      <td>VIAS PUBLICAS</td>\n",
       "      <td>ARMA BLANCA</td>\n",
       "      <td>A PIE</td>\n",
       "      <td>A PIE</td>\n",
       "      <td>21.0</td>\n",
       "      <td>MASCULINO</td>\n",
       "      <td>SOLTERO</td>\n",
       "      <td>DESEMPLEADO</td>\n",
       "      <td>NO REPORTADO</td>\n",
       "      <td>PRIMARIA</td>\n",
       "      <td>COLOMBIA</td>\n",
       "      <td>25307000.0</td>\n",
       "      <td>1994.0</td>\n",
       "      <td>69-341</td>\n",
       "      <td>fagdff4429@unidatos.edu.co</td>\n",
       "    </tr>\n",
       "    <tr>\n",
       "      <th>6794</th>\n",
       "      <td>2021-07-19 21:30:00</td>\n",
       "      <td>META</td>\n",
       "      <td>GRANADA</td>\n",
       "      <td>Domingo</td>\n",
       "      <td>VILLA ESPERANZA</td>\n",
       "      <td>URBANA</td>\n",
       "      <td>LOTE BALDIO</td>\n",
       "      <td>ARMA DE FUEGO</td>\n",
       "      <td>A PIE</td>\n",
       "      <td>A PIE</td>\n",
       "      <td>28.0</td>\n",
       "      <td>MASCULINO</td>\n",
       "      <td>SOLTERO</td>\n",
       "      <td>INDEPENDIENTE</td>\n",
       "      <td>NO REPORTADO</td>\n",
       "      <td>ANALFABETA</td>\n",
       "      <td>COLOMBIA</td>\n",
       "      <td>50313000.0</td>\n",
       "      <td>1987.0</td>\n",
       "      <td>45-800</td>\n",
       "      <td>correo3262@colombia.gov.co</td>\n",
       "    </tr>\n",
       "  </tbody>\n",
       "</table>\n",
       "</div>"
      ],
      "text/plain": [
       "                   FECHA     DEPARTAMENTO     MUNICIPIO      DIA  \\\n",
       "8637 2021-09-14 12:32:00            VALLE         TULUÁ    Lunes   \n",
       "7303 2021-08-03 09:20:00  N. DE SANTANDER  LA ESPERANZA    Lunes   \n",
       "2456 2021-03-16 15:00:00        ANTIOQUIA        GUARNE    Lunes   \n",
       "426  2021-01-11 05:59:00     CUNDINAMARCA      GIRARDOT  domnigo   \n",
       "6794 2021-07-19 21:30:00             META       GRANADA  Domingo   \n",
       "\n",
       "                   BARRIO    ZONA      CLASE DE SITIO    ARMA O MEDIO  \\\n",
       "8637             Riopaila  URBANA       VIAS PUBLICAS   ARMA DE FUEGO   \n",
       "7303  VEREDA CAÑO DE HOYO   RURAL       VIAS PUBLICAS   ARMA DE FUEGO   \n",
       "2456              ROMERAL   RURAL  FINCAS Y SIMILARES  BOLSA PLASTICA   \n",
       "426                CENTRO  URBANA       VIAS PUBLICAS     ARMA BLANCA   \n",
       "6794      VILLA ESPERANZA  URBANA         LOTE BALDIO   ARMA DE FUEGO   \n",
       "\n",
       "             MOVIL VICTIMA          MOVIL AGRESOR  EDAD     GENERO  \\\n",
       "8637                 A PIE  CONDUCTOR MOTOCICLETA  41.0  MASCULINO   \n",
       "7303  PASAJERO MOTOCICLETA               VEHICULO  34.0  MASCULINO   \n",
       "2456                 A PIE                  A PIE  30.0  MASCULINO   \n",
       "426                  A PIE                  A PIE  21.0  MASCULINO   \n",
       "6794                 A PIE                  A PIE  28.0  MASCULINO   \n",
       "\n",
       "     ESTADO CIVIL       CLASE EMPLEADO     PROFESION ESCOLARIDAD PAIS NACE  \\\n",
       "8637  UNION LIBRE  EMPLEADO PARTICULAR  NO REPORTADO  SECUNDARIA  COLOMBIA   \n",
       "7303      SOLTERO          DESEMPLEADO  NO REPORTADO    PRIMARIA  COLOMBIA   \n",
       "2456  UNION LIBRE  EMPLEADO PARTICULAR  NO REPORTADO  SECUNDARIA  COLOMBIA   \n",
       "426       SOLTERO          DESEMPLEADO  NO REPORTADO    PRIMARIA  COLOMBIA   \n",
       "6794      SOLTERO        INDEPENDIENTE  NO REPORTADO  ANALFABETA  COLOMBIA   \n",
       "\n",
       "      CODIGO DANE  AÑO DE NACIMIENTO  CÉDULA                      CORREO  \n",
       "8637   76834000.0             1974.0  80-394        jrossr8696@gmail.com  \n",
       "7303   54385000.0             1981.0  96-318  correo5241@colombia.gov.co  \n",
       "2456    5318000.0             1985.0  84-001        eitjan1737@gmail.com  \n",
       "426    25307000.0             1994.0  69-341  fagdff4429@unidatos.edu.co  \n",
       "6794   50313000.0             1987.0  45-800  correo3262@colombia.gov.co  "
      ]
     },
     "execution_count": 344,
     "metadata": {},
     "output_type": "execute_result"
    }
   ],
   "source": [
    "homicides_df.sample(5)"
   ]
  },
  {
   "cell_type": "markdown",
   "metadata": {},
   "source": [
    "## 2. Fixing categorical column"
   ]
  },
  {
   "cell_type": "code",
   "execution_count": 345,
   "metadata": {},
   "outputs": [],
   "source": [
    "# Creating a dictionary representing the valid departments for Colombia\n",
    "departments_list = ['ANTIOQUIA', 'ATLÁNTICO', 'BOLÍVAR', 'BOYACÁ', 'CALDAS', 'CAQUETÁ',\n",
    "       'CASANARE', 'CAUCA', 'CESAR', 'CHOCÓ', 'CÓRDOBA', 'META',\n",
    "       'CUNDINAMARCA', 'HUILA', 'MAGDALENA', 'NARIÑO', 'PUTUMAYO',\n",
    "       'RISARALDA', 'SANTANDER', 'SUCRE', 'TOLIMA', 'VALLE',\n",
    "       'NORTE DE SANTANDER', 'GUAJIRA', 'QUINDÍO', 'SAN ANDRÉS Y PROVIDENCIA', 'ARAUCA',\n",
    "       'GUAINÍA', 'VICHADA', 'VAUPÉS', 'GUAVIARE', 'AMAZONAS']"
   ]
  },
  {
   "cell_type": "code",
   "execution_count": 346,
   "metadata": {},
   "outputs": [
    {
     "data": {
      "text/plain": [
       "array(['SAN ANDRÉS', 'N. DE SANTANDER'], dtype=object)"
      ]
     },
     "execution_count": 346,
     "metadata": {},
     "output_type": "execute_result"
    }
   ],
   "source": [
    "# Finding values not matching with the dictionary\n",
    "homicides_df.loc[~homicides_df[\"DEPARTAMENTO\"].isin(departments_list), \"DEPARTAMENTO\"].unique()"
   ]
  },
  {
   "cell_type": "code",
   "execution_count": 347,
   "metadata": {},
   "outputs": [
    {
     "name": "stdout",
     "output_type": "stream",
     "text": [
      "Number of rows: 101\n"
     ]
    }
   ],
   "source": [
    "filtered_series = homicides_df.loc[~homicides_df[\"DEPARTAMENTO\"].isin(departments_list), \"DEPARTAMENTO\"]\n",
    "dimensions = filtered_series.shape\n",
    "print(\"Number of rows:\", dimensions[0])"
   ]
  },
  {
   "cell_type": "markdown",
   "metadata": {},
   "source": [
    "<span style=\"color:red\">TODO: Replace the values identified as error to a valid value from the dictionary.</span>\n",
    "\n",
    "<span style=\"color:red\">Hint: You can use the replace() pandas function.</span>"
   ]
  },
  {
   "cell_type": "code",
   "execution_count": 348,
   "metadata": {},
   "outputs": [
    {
     "name": "stdout",
     "output_type": "stream",
     "text": [
      "['ANTIOQUIA' 'ATLÁNTICO' 'BOLÍVAR' 'BOYACÁ' 'CALDAS' 'CAQUETÁ' 'CASANARE'\n",
      " 'CAUCA' 'CESAR' 'CHOCÓ' 'CÓRDOBA' 'META' 'CUNDINAMARCA' 'HUILA'\n",
      " 'MAGDALENA' 'NARIÑO' 'PUTUMAYO' 'RISARALDA' 'SANTANDER' 'SUCRE' 'TOLIMA'\n",
      " 'VALLE' 'NORTE DE SANTANDER' 'GUAJIRA' 'QUINDÍO' 'ARAUCA' 'GUAINÍA'\n",
      " 'VICHADA' 'GUAVIARE' 'VAUPÉS' 'SAN ANDRÉS Y PROVIDENCIA' 'AMAZONAS']\n"
     ]
    },
    {
     "data": {
      "text/plain": [
       "32"
      ]
     },
     "execution_count": 348,
     "metadata": {},
     "output_type": "execute_result"
    }
   ],
   "source": [
    "from fuzzywuzzy import fuzz\n",
    "from fuzzywuzzy import process\n",
    "\n",
    "# Función para encontrar el mejor ajuste usando Levenshtein\n",
    "def find_best_match(name, choices):\n",
    "    return process.extractOne(name, choices, scorer=fuzz.ratio)\n",
    "\n",
    "# Aplica la función a cada valor en la columna neighbourhood_cleansed\n",
    "homicides_df['DEPARTAMENTO_AJUSTADO'] = homicides_df['DEPARTAMENTO'].apply(\n",
    "    lambda x: find_best_match(x, departments_list)[0]\n",
    ")\n",
    "\n",
    "# Imprime el DataFrame actualizado\n",
    "unique_categories = homicides_df['DEPARTAMENTO_AJUSTADO'].unique()\n",
    "print(unique_categories)\n",
    "len(unique_categories)"
   ]
  },
  {
   "cell_type": "markdown",
   "metadata": {},
   "source": [
    "## 3. Analyzing potential duplicates"
   ]
  },
  {
   "cell_type": "code",
   "execution_count": 349,
   "metadata": {},
   "outputs": [],
   "source": [
    "# Detecting duplicates by \"CÉDULA\" column\n",
    "duplicates_by_cedula = homicides_df.loc[homicides_df[\"CÉDULA\"].duplicated(keep=False)]"
   ]
  },
  {
   "cell_type": "code",
   "execution_count": 350,
   "metadata": {},
   "outputs": [
    {
     "data": {
      "text/plain": [
       "(1627, 22)"
      ]
     },
     "execution_count": 350,
     "metadata": {},
     "output_type": "execute_result"
    }
   ],
   "source": [
    "duplicates_by_cedula.shape"
   ]
  },
  {
   "cell_type": "code",
   "execution_count": 351,
   "metadata": {},
   "outputs": [
    {
     "data": {
      "text/html": [
       "<div>\n",
       "<style scoped>\n",
       "    .dataframe tbody tr th:only-of-type {\n",
       "        vertical-align: middle;\n",
       "    }\n",
       "\n",
       "    .dataframe tbody tr th {\n",
       "        vertical-align: top;\n",
       "    }\n",
       "\n",
       "    .dataframe thead th {\n",
       "        text-align: right;\n",
       "    }\n",
       "</style>\n",
       "<table border=\"1\" class=\"dataframe\">\n",
       "  <thead>\n",
       "    <tr style=\"text-align: right;\">\n",
       "      <th></th>\n",
       "      <th>FECHA</th>\n",
       "      <th>DEPARTAMENTO</th>\n",
       "      <th>MUNICIPIO</th>\n",
       "      <th>DIA</th>\n",
       "      <th>BARRIO</th>\n",
       "      <th>ZONA</th>\n",
       "      <th>CLASE DE SITIO</th>\n",
       "      <th>ARMA O MEDIO</th>\n",
       "      <th>MOVIL VICTIMA</th>\n",
       "      <th>MOVIL AGRESOR</th>\n",
       "      <th>EDAD</th>\n",
       "      <th>GENERO</th>\n",
       "      <th>ESTADO CIVIL</th>\n",
       "      <th>CLASE EMPLEADO</th>\n",
       "      <th>PROFESION</th>\n",
       "      <th>ESCOLARIDAD</th>\n",
       "      <th>PAIS NACE</th>\n",
       "      <th>CODIGO DANE</th>\n",
       "      <th>AÑO DE NACIMIENTO</th>\n",
       "      <th>CÉDULA</th>\n",
       "      <th>CORREO</th>\n",
       "      <th>DEPARTAMENTO_AJUSTADO</th>\n",
       "    </tr>\n",
       "  </thead>\n",
       "  <tbody>\n",
       "    <tr>\n",
       "      <th>4041</th>\n",
       "      <td>2021-05-03 23:30:00</td>\n",
       "      <td>CAUCA</td>\n",
       "      <td>EL TAMBO</td>\n",
       "      <td>Domingo</td>\n",
       "      <td>LA VICTORIA</td>\n",
       "      <td>RURAL</td>\n",
       "      <td>BARES, CANTINAS Y SIMILARES</td>\n",
       "      <td>ARMA DE FUEGO</td>\n",
       "      <td>A PIE</td>\n",
       "      <td>A PIE</td>\n",
       "      <td>45.0</td>\n",
       "      <td>MASCULINO</td>\n",
       "      <td>UNION LIBRE</td>\n",
       "      <td>AGRICULTOR</td>\n",
       "      <td>NO REPORTADO</td>\n",
       "      <td>PRIMARIA</td>\n",
       "      <td>COLOMBIA</td>\n",
       "      <td>19256000.0</td>\n",
       "      <td>1970.0</td>\n",
       "      <td>10-048</td>\n",
       "      <td>aitufn1227@gmail.com</td>\n",
       "      <td>CAUCA</td>\n",
       "    </tr>\n",
       "    <tr>\n",
       "      <th>3810</th>\n",
       "      <td>2021-04-26 03:00:00</td>\n",
       "      <td>ANTIOQUIA</td>\n",
       "      <td>SAN JERÓNIMO</td>\n",
       "      <td>Domingo</td>\n",
       "      <td>LA PLAYA</td>\n",
       "      <td>URBANA</td>\n",
       "      <td>HOTELES, RESIDENCIAS, Y SIMILARES.</td>\n",
       "      <td>CUERDA/SOGA/CADENA</td>\n",
       "      <td>A PIE</td>\n",
       "      <td>A PIE</td>\n",
       "      <td>25.0</td>\n",
       "      <td>MASCULINO</td>\n",
       "      <td>SOLTERO</td>\n",
       "      <td>INDEPENDIENTE</td>\n",
       "      <td>NO REPORTADO</td>\n",
       "      <td>SECUNDARIA</td>\n",
       "      <td>COLOMBIA</td>\n",
       "      <td>5656000.0</td>\n",
       "      <td>1990.0</td>\n",
       "      <td>10-048</td>\n",
       "      <td>ibbcpu2509@unidatos.edu.co</td>\n",
       "      <td>ANTIOQUIA</td>\n",
       "    </tr>\n",
       "    <tr>\n",
       "      <th>693</th>\n",
       "      <td>2021-01-19 05:30:00</td>\n",
       "      <td>ANTIOQUIA</td>\n",
       "      <td>SALGAR</td>\n",
       "      <td>Lunes</td>\n",
       "      <td>LA HABANA</td>\n",
       "      <td>URBANA</td>\n",
       "      <td>VIAS PUBLICAS</td>\n",
       "      <td>ARMA DE FUEGO</td>\n",
       "      <td>A PIE</td>\n",
       "      <td>A PIE</td>\n",
       "      <td>58.0</td>\n",
       "      <td>MASCULINO</td>\n",
       "      <td>SOLTERO</td>\n",
       "      <td>AGRICULTOR</td>\n",
       "      <td>NO REPORTADO</td>\n",
       "      <td>PRIMARIA</td>\n",
       "      <td>COLOMBIA</td>\n",
       "      <td>5642000.0</td>\n",
       "      <td>57.0</td>\n",
       "      <td>10-079</td>\n",
       "      <td>unhoqj1172@unidatos.edu.co</td>\n",
       "      <td>ANTIOQUIA</td>\n",
       "    </tr>\n",
       "    <tr>\n",
       "      <th>10796</th>\n",
       "      <td>2021-11-20 03:00:00</td>\n",
       "      <td>VALLE</td>\n",
       "      <td>CALI (CT)</td>\n",
       "      <td>Viernes</td>\n",
       "      <td>POTRERO GRANDE E21</td>\n",
       "      <td>URBANA</td>\n",
       "      <td>VIAS PUBLICAS</td>\n",
       "      <td>ARMA DE FUEGO</td>\n",
       "      <td>A PIE</td>\n",
       "      <td>A PIE</td>\n",
       "      <td>21.0</td>\n",
       "      <td>MASCULINO</td>\n",
       "      <td>SOLTERO</td>\n",
       "      <td>EMPLEADO PARTICULAR</td>\n",
       "      <td>NO REPORTADO</td>\n",
       "      <td>SECUNDARIA</td>\n",
       "      <td>COLOMBIA</td>\n",
       "      <td>76001000.0</td>\n",
       "      <td>1994.0</td>\n",
       "      <td>10-079</td>\n",
       "      <td>iknnoj8430@unidatos.edu.co</td>\n",
       "      <td>VALLE</td>\n",
       "    </tr>\n",
       "    <tr>\n",
       "      <th>2386</th>\n",
       "      <td>2021-03-14 02:00:00</td>\n",
       "      <td>META</td>\n",
       "      <td>FUENTE DE ORO</td>\n",
       "      <td>Sábado</td>\n",
       "      <td>VEREDA PUERTO NUEVO</td>\n",
       "      <td>RURAL</td>\n",
       "      <td>BARES, CANTINAS Y SIMILARES</td>\n",
       "      <td>ARMA BLANCA</td>\n",
       "      <td>A PIE</td>\n",
       "      <td>A PIE</td>\n",
       "      <td>42.0</td>\n",
       "      <td>MASCULINO</td>\n",
       "      <td>SOLTERO</td>\n",
       "      <td>INDEPENDIENTE</td>\n",
       "      <td>NO REPORTADO</td>\n",
       "      <td>PRIMARIA</td>\n",
       "      <td>COLOMBIA</td>\n",
       "      <td>50287000.0</td>\n",
       "      <td>1973.0</td>\n",
       "      <td>10-255</td>\n",
       "      <td>afompq7113@unidatos.edu.co</td>\n",
       "      <td>META</td>\n",
       "    </tr>\n",
       "    <tr>\n",
       "      <th>138</th>\n",
       "      <td>2021-01-02 06:20:00</td>\n",
       "      <td>CAUCA</td>\n",
       "      <td>SOTARA</td>\n",
       "      <td>Viernes</td>\n",
       "      <td>CENTRO</td>\n",
       "      <td>RURAL</td>\n",
       "      <td>VIAS PUBLICAS</td>\n",
       "      <td>ARMA BLANCA</td>\n",
       "      <td>A PIE</td>\n",
       "      <td>A PIE</td>\n",
       "      <td>22.0</td>\n",
       "      <td>MASCULINO</td>\n",
       "      <td>SOLTERO</td>\n",
       "      <td>EMPLEADO EJERCITO</td>\n",
       "      <td>NO REPORTADO</td>\n",
       "      <td>SECUNDARIA</td>\n",
       "      <td>COLOMBIA</td>\n",
       "      <td>19760000.0</td>\n",
       "      <td>1993.0</td>\n",
       "      <td>10-255</td>\n",
       "      <td>cobgqs8819@unidatos.edu.co</td>\n",
       "      <td>CAUCA</td>\n",
       "    </tr>\n",
       "  </tbody>\n",
       "</table>\n",
       "</div>"
      ],
      "text/plain": [
       "                    FECHA DEPARTAMENTO      MUNICIPIO      DIA  \\\n",
       "4041  2021-05-03 23:30:00        CAUCA       EL TAMBO  Domingo   \n",
       "3810  2021-04-26 03:00:00    ANTIOQUIA   SAN JERÓNIMO  Domingo   \n",
       "693   2021-01-19 05:30:00    ANTIOQUIA         SALGAR    Lunes   \n",
       "10796 2021-11-20 03:00:00        VALLE      CALI (CT)  Viernes   \n",
       "2386  2021-03-14 02:00:00         META  FUENTE DE ORO   Sábado   \n",
       "138   2021-01-02 06:20:00        CAUCA         SOTARA  Viernes   \n",
       "\n",
       "                    BARRIO    ZONA                      CLASE DE SITIO  \\\n",
       "4041           LA VICTORIA   RURAL         BARES, CANTINAS Y SIMILARES   \n",
       "3810              LA PLAYA  URBANA  HOTELES, RESIDENCIAS, Y SIMILARES.   \n",
       "693              LA HABANA  URBANA                       VIAS PUBLICAS   \n",
       "10796   POTRERO GRANDE E21  URBANA                       VIAS PUBLICAS   \n",
       "2386   VEREDA PUERTO NUEVO   RURAL         BARES, CANTINAS Y SIMILARES   \n",
       "138                 CENTRO   RURAL                       VIAS PUBLICAS   \n",
       "\n",
       "             ARMA O MEDIO MOVIL VICTIMA MOVIL AGRESOR  EDAD     GENERO  \\\n",
       "4041        ARMA DE FUEGO         A PIE         A PIE  45.0  MASCULINO   \n",
       "3810   CUERDA/SOGA/CADENA         A PIE         A PIE  25.0  MASCULINO   \n",
       "693         ARMA DE FUEGO         A PIE         A PIE  58.0  MASCULINO   \n",
       "10796       ARMA DE FUEGO         A PIE         A PIE  21.0  MASCULINO   \n",
       "2386          ARMA BLANCA         A PIE         A PIE  42.0  MASCULINO   \n",
       "138           ARMA BLANCA         A PIE         A PIE  22.0  MASCULINO   \n",
       "\n",
       "      ESTADO CIVIL       CLASE EMPLEADO     PROFESION ESCOLARIDAD PAIS NACE  \\\n",
       "4041   UNION LIBRE           AGRICULTOR  NO REPORTADO    PRIMARIA  COLOMBIA   \n",
       "3810       SOLTERO        INDEPENDIENTE  NO REPORTADO  SECUNDARIA  COLOMBIA   \n",
       "693        SOLTERO           AGRICULTOR  NO REPORTADO    PRIMARIA  COLOMBIA   \n",
       "10796      SOLTERO  EMPLEADO PARTICULAR  NO REPORTADO  SECUNDARIA  COLOMBIA   \n",
       "2386       SOLTERO        INDEPENDIENTE  NO REPORTADO    PRIMARIA  COLOMBIA   \n",
       "138        SOLTERO    EMPLEADO EJERCITO  NO REPORTADO  SECUNDARIA  COLOMBIA   \n",
       "\n",
       "       CODIGO DANE  AÑO DE NACIMIENTO  CÉDULA                      CORREO  \\\n",
       "4041    19256000.0             1970.0  10-048        aitufn1227@gmail.com   \n",
       "3810     5656000.0             1990.0  10-048  ibbcpu2509@unidatos.edu.co   \n",
       "693      5642000.0               57.0  10-079  unhoqj1172@unidatos.edu.co   \n",
       "10796   76001000.0             1994.0  10-079  iknnoj8430@unidatos.edu.co   \n",
       "2386    50287000.0             1973.0  10-255  afompq7113@unidatos.edu.co   \n",
       "138     19760000.0             1993.0  10-255  cobgqs8819@unidatos.edu.co   \n",
       "\n",
       "      DEPARTAMENTO_AJUSTADO  \n",
       "4041                  CAUCA  \n",
       "3810              ANTIOQUIA  \n",
       "693               ANTIOQUIA  \n",
       "10796                 VALLE  \n",
       "2386                   META  \n",
       "138                   CAUCA  "
      ]
     },
     "execution_count": 351,
     "metadata": {},
     "output_type": "execute_result"
    }
   ],
   "source": [
    "duplicates_by_cedula.sort_values(\"CÉDULA\", ascending=True).head(6)"
   ]
  },
  {
   "cell_type": "markdown",
   "metadata": {},
   "source": [
    "<span style=\"color:red\">TODO: Delete records with \"CÉDULA\" duplicated.</span>\n",
    "\n",
    "<span style=\"color:red\">Hint: You can use drop_duplicates() pandas function.</span>"
   ]
  },
  {
   "cell_type": "code",
   "execution_count": 352,
   "metadata": {},
   "outputs": [],
   "source": [
    "homicides_df=homicides_df.drop_duplicates(['CÉDULA'])"
   ]
  },
  {
   "cell_type": "code",
   "execution_count": 353,
   "metadata": {},
   "outputs": [],
   "source": [
    "# Detecting duplicates by \"CÉDULA\" column\n",
    "duplicates_by_cedula = homicides_df.loc[homicides_df[\"CÉDULA\"].duplicated(keep=False)]"
   ]
  },
  {
   "cell_type": "code",
   "execution_count": 354,
   "metadata": {},
   "outputs": [
    {
     "data": {
      "text/plain": [
       "(0, 22)"
      ]
     },
     "execution_count": 354,
     "metadata": {},
     "output_type": "execute_result"
    }
   ],
   "source": [
    "duplicates_by_cedula.shape"
   ]
  },
  {
   "cell_type": "markdown",
   "metadata": {},
   "source": [
    "## 4. Fixing formats"
   ]
  },
  {
   "cell_type": "code",
   "execution_count": 355,
   "metadata": {},
   "outputs": [],
   "source": [
    "# Using regular expressions for validating if \"CÉDULA\" values match the pattern XX-XXX\n",
    "cedula_malformed = homicides_df.loc[homicides_df[\"CÉDULA\"].apply(lambda x: (re.match(\"\\d{2}-\\d{3}\", x) is None))]"
   ]
  },
  {
   "cell_type": "code",
   "execution_count": 356,
   "metadata": {},
   "outputs": [
    {
     "data": {
      "text/plain": [
       "(28, 22)"
      ]
     },
     "execution_count": 356,
     "metadata": {},
     "output_type": "execute_result"
    }
   ],
   "source": [
    "cedula_malformed.shape"
   ]
  },
  {
   "cell_type": "code",
   "execution_count": 357,
   "metadata": {
    "scrolled": true
   },
   "outputs": [
    {
     "data": {
      "text/html": [
       "<div>\n",
       "<style scoped>\n",
       "    .dataframe tbody tr th:only-of-type {\n",
       "        vertical-align: middle;\n",
       "    }\n",
       "\n",
       "    .dataframe tbody tr th {\n",
       "        vertical-align: top;\n",
       "    }\n",
       "\n",
       "    .dataframe thead th {\n",
       "        text-align: right;\n",
       "    }\n",
       "</style>\n",
       "<table border=\"1\" class=\"dataframe\">\n",
       "  <thead>\n",
       "    <tr style=\"text-align: right;\">\n",
       "      <th></th>\n",
       "      <th>FECHA</th>\n",
       "      <th>DEPARTAMENTO</th>\n",
       "      <th>MUNICIPIO</th>\n",
       "      <th>DIA</th>\n",
       "      <th>BARRIO</th>\n",
       "      <th>ZONA</th>\n",
       "      <th>CLASE DE SITIO</th>\n",
       "      <th>ARMA O MEDIO</th>\n",
       "      <th>MOVIL VICTIMA</th>\n",
       "      <th>MOVIL AGRESOR</th>\n",
       "      <th>EDAD</th>\n",
       "      <th>GENERO</th>\n",
       "      <th>ESTADO CIVIL</th>\n",
       "      <th>CLASE EMPLEADO</th>\n",
       "      <th>PROFESION</th>\n",
       "      <th>ESCOLARIDAD</th>\n",
       "      <th>PAIS NACE</th>\n",
       "      <th>CODIGO DANE</th>\n",
       "      <th>AÑO DE NACIMIENTO</th>\n",
       "      <th>CÉDULA</th>\n",
       "      <th>CORREO</th>\n",
       "      <th>DEPARTAMENTO_AJUSTADO</th>\n",
       "    </tr>\n",
       "  </thead>\n",
       "  <tbody>\n",
       "    <tr>\n",
       "      <th>172</th>\n",
       "      <td>2021-01-03 11:00:00</td>\n",
       "      <td>META</td>\n",
       "      <td>MESETAS</td>\n",
       "      <td>Sábado</td>\n",
       "      <td>VEREDA EL CAFRE</td>\n",
       "      <td>RURAL</td>\n",
       "      <td>ZONA SELVÁTICA</td>\n",
       "      <td>MINA ANTIPERSONA</td>\n",
       "      <td>A PIE</td>\n",
       "      <td>A PIE</td>\n",
       "      <td>24.0</td>\n",
       "      <td>MASCULINO</td>\n",
       "      <td>SOLTERO</td>\n",
       "      <td>EMPLEADO EJERCITO</td>\n",
       "      <td>NO REPORTADO</td>\n",
       "      <td>SECUNDARIA</td>\n",
       "      <td>COLOMBIA</td>\n",
       "      <td>50330000.0</td>\n",
       "      <td>1991.0</td>\n",
       "      <td>680-21</td>\n",
       "      <td>oohghd8899@gmail.com</td>\n",
       "      <td>META</td>\n",
       "    </tr>\n",
       "    <tr>\n",
       "      <th>1114</th>\n",
       "      <td>2021-02-01 12:30:00</td>\n",
       "      <td>ATLÁNTICO</td>\n",
       "      <td>BARRANQUILLA (CT)</td>\n",
       "      <td>Domingo</td>\n",
       "      <td>LA LUZ</td>\n",
       "      <td>URBANA</td>\n",
       "      <td>VIAS PUBLICAS</td>\n",
       "      <td>ARMA DE FUEGO</td>\n",
       "      <td>A PIE</td>\n",
       "      <td>A PIE</td>\n",
       "      <td>29.0</td>\n",
       "      <td>MASCULINO</td>\n",
       "      <td>SOLTERO</td>\n",
       "      <td>INDEPENDIENTE</td>\n",
       "      <td>NO REPORTADO</td>\n",
       "      <td>PRIMARIA</td>\n",
       "      <td>COLOMBIA</td>\n",
       "      <td>8001000.0</td>\n",
       "      <td>1986.0</td>\n",
       "      <td>140-17</td>\n",
       "      <td>correo5853@colombia.gov.co</td>\n",
       "      <td>ATLÁNTICO</td>\n",
       "    </tr>\n",
       "    <tr>\n",
       "      <th>2119</th>\n",
       "      <td>2021-03-06 15:30:00</td>\n",
       "      <td>VALLE</td>\n",
       "      <td>CALI (CT)</td>\n",
       "      <td>Viernes</td>\n",
       "      <td>QUINTAS DEL SOL E14</td>\n",
       "      <td>URBANA</td>\n",
       "      <td>DENTRO DE LA VIVIENDA</td>\n",
       "      <td>ARMA BLANCA</td>\n",
       "      <td>A PIE</td>\n",
       "      <td>A PIE</td>\n",
       "      <td>20.0</td>\n",
       "      <td>FEMENINO</td>\n",
       "      <td>UNION LIBRE</td>\n",
       "      <td>EMPLEADO PARTICULAR</td>\n",
       "      <td>NO REPORTADO</td>\n",
       "      <td>SECUNDARIA</td>\n",
       "      <td>COLOMBIA</td>\n",
       "      <td>76001000.0</td>\n",
       "      <td>1995.0</td>\n",
       "      <td>975-31</td>\n",
       "      <td>ohbqrk3631@unidatos.edu.co</td>\n",
       "      <td>VALLE</td>\n",
       "    </tr>\n",
       "    <tr>\n",
       "      <th>3309</th>\n",
       "      <td>2021-04-11 10:30:00</td>\n",
       "      <td>CAQUETÁ</td>\n",
       "      <td>FLORENCIA (CT)</td>\n",
       "      <td>Sávado</td>\n",
       "      <td>VIA MORELIA</td>\n",
       "      <td>RURAL</td>\n",
       "      <td>CARCELES</td>\n",
       "      <td>CORTANTES</td>\n",
       "      <td>A PIE</td>\n",
       "      <td>A PIE</td>\n",
       "      <td>23.0</td>\n",
       "      <td>MASCULINO</td>\n",
       "      <td>SOLTERO</td>\n",
       "      <td>INDEPENDIENTE</td>\n",
       "      <td>NO REPORTADO</td>\n",
       "      <td>PRIMARIA</td>\n",
       "      <td>COLOMBIA</td>\n",
       "      <td>18001000.0</td>\n",
       "      <td>1992.0</td>\n",
       "      <td>348-66</td>\n",
       "      <td>pdkqur8407@unidatos.edu.co</td>\n",
       "      <td>CAQUETÁ</td>\n",
       "    </tr>\n",
       "    <tr>\n",
       "      <th>3409</th>\n",
       "      <td>2021-04-13 23:20:00</td>\n",
       "      <td>CÓRDOBA</td>\n",
       "      <td>SAHAGÚN</td>\n",
       "      <td>Lunes</td>\n",
       "      <td>CORREGIMIENTO DE BAJO GRANDE</td>\n",
       "      <td>URBANA</td>\n",
       "      <td>BILLARES</td>\n",
       "      <td>CONTUNDENTES</td>\n",
       "      <td>A PIE</td>\n",
       "      <td>A PIE</td>\n",
       "      <td>49.0</td>\n",
       "      <td>MASCULINO</td>\n",
       "      <td>SOLTERO</td>\n",
       "      <td>INDEPENDIENTE</td>\n",
       "      <td>NO REPORTADO</td>\n",
       "      <td>SECUNDARIA</td>\n",
       "      <td>COLOMBIA</td>\n",
       "      <td>23660000.0</td>\n",
       "      <td>1966.0</td>\n",
       "      <td>496-18</td>\n",
       "      <td>fdbbeo6751@unidatos.edu.co</td>\n",
       "      <td>CÓRDOBA</td>\n",
       "    </tr>\n",
       "    <tr>\n",
       "      <th>3588</th>\n",
       "      <td>2021-04-19 20:00:00</td>\n",
       "      <td>BOLÍVAR</td>\n",
       "      <td>CARTAGENA (CT)</td>\n",
       "      <td>Domingo</td>\n",
       "      <td>LA ESPERANZA</td>\n",
       "      <td>URBANA</td>\n",
       "      <td>VIAS PUBLICAS</td>\n",
       "      <td>ARMA DE FUEGO</td>\n",
       "      <td>A PIE</td>\n",
       "      <td>A PIE</td>\n",
       "      <td>45.0</td>\n",
       "      <td>MASCULINO</td>\n",
       "      <td>SOLTERO</td>\n",
       "      <td>DESEMPLEADO</td>\n",
       "      <td>NO REPORTADO</td>\n",
       "      <td>NO REPORTADO</td>\n",
       "      <td>NO REPORTADO</td>\n",
       "      <td>13001000.0</td>\n",
       "      <td>1970.0</td>\n",
       "      <td>188-03</td>\n",
       "      <td>diebuo5651@unidatos.edu.co</td>\n",
       "      <td>BOLÍVAR</td>\n",
       "    </tr>\n",
       "  </tbody>\n",
       "</table>\n",
       "</div>"
      ],
      "text/plain": [
       "                   FECHA DEPARTAMENTO          MUNICIPIO      DIA  \\\n",
       "172  2021-01-03 11:00:00         META            MESETAS   Sábado   \n",
       "1114 2021-02-01 12:30:00    ATLÁNTICO  BARRANQUILLA (CT)  Domingo   \n",
       "2119 2021-03-06 15:30:00        VALLE          CALI (CT)  Viernes   \n",
       "3309 2021-04-11 10:30:00      CAQUETÁ     FLORENCIA (CT)   Sávado   \n",
       "3409 2021-04-13 23:20:00      CÓRDOBA            SAHAGÚN    Lunes   \n",
       "3588 2021-04-19 20:00:00      BOLÍVAR     CARTAGENA (CT)  Domingo   \n",
       "\n",
       "                            BARRIO    ZONA         CLASE DE SITIO  \\\n",
       "172                VEREDA EL CAFRE   RURAL         ZONA SELVÁTICA   \n",
       "1114                        LA LUZ  URBANA          VIAS PUBLICAS   \n",
       "2119           QUINTAS DEL SOL E14  URBANA  DENTRO DE LA VIVIENDA   \n",
       "3309                   VIA MORELIA   RURAL               CARCELES   \n",
       "3409  CORREGIMIENTO DE BAJO GRANDE  URBANA               BILLARES   \n",
       "3588                  LA ESPERANZA  URBANA          VIAS PUBLICAS   \n",
       "\n",
       "          ARMA O MEDIO MOVIL VICTIMA MOVIL AGRESOR  EDAD     GENERO  \\\n",
       "172   MINA ANTIPERSONA         A PIE         A PIE  24.0  MASCULINO   \n",
       "1114     ARMA DE FUEGO         A PIE         A PIE  29.0  MASCULINO   \n",
       "2119       ARMA BLANCA         A PIE         A PIE  20.0   FEMENINO   \n",
       "3309         CORTANTES         A PIE         A PIE  23.0  MASCULINO   \n",
       "3409      CONTUNDENTES         A PIE         A PIE  49.0  MASCULINO   \n",
       "3588     ARMA DE FUEGO         A PIE         A PIE  45.0  MASCULINO   \n",
       "\n",
       "     ESTADO CIVIL       CLASE EMPLEADO     PROFESION   ESCOLARIDAD  \\\n",
       "172       SOLTERO    EMPLEADO EJERCITO  NO REPORTADO    SECUNDARIA   \n",
       "1114      SOLTERO        INDEPENDIENTE  NO REPORTADO      PRIMARIA   \n",
       "2119  UNION LIBRE  EMPLEADO PARTICULAR  NO REPORTADO    SECUNDARIA   \n",
       "3309      SOLTERO        INDEPENDIENTE  NO REPORTADO      PRIMARIA   \n",
       "3409      SOLTERO        INDEPENDIENTE  NO REPORTADO    SECUNDARIA   \n",
       "3588      SOLTERO          DESEMPLEADO  NO REPORTADO  NO REPORTADO   \n",
       "\n",
       "         PAIS NACE  CODIGO DANE  AÑO DE NACIMIENTO  CÉDULA  \\\n",
       "172       COLOMBIA   50330000.0             1991.0  680-21   \n",
       "1114      COLOMBIA    8001000.0             1986.0  140-17   \n",
       "2119      COLOMBIA   76001000.0             1995.0  975-31   \n",
       "3309      COLOMBIA   18001000.0             1992.0  348-66   \n",
       "3409      COLOMBIA   23660000.0             1966.0  496-18   \n",
       "3588  NO REPORTADO   13001000.0             1970.0  188-03   \n",
       "\n",
       "                          CORREO DEPARTAMENTO_AJUSTADO  \n",
       "172         oohghd8899@gmail.com                  META  \n",
       "1114  correo5853@colombia.gov.co             ATLÁNTICO  \n",
       "2119  ohbqrk3631@unidatos.edu.co                 VALLE  \n",
       "3309  pdkqur8407@unidatos.edu.co               CAQUETÁ  \n",
       "3409  fdbbeo6751@unidatos.edu.co               CÓRDOBA  \n",
       "3588  diebuo5651@unidatos.edu.co               BOLÍVAR  "
      ]
     },
     "execution_count": 357,
     "metadata": {},
     "output_type": "execute_result"
    }
   ],
   "source": [
    "cedula_malformed.head(6)"
   ]
  },
  {
   "cell_type": "markdown",
   "metadata": {},
   "source": [
    "<span style=\"color:red\">TODO: Fix the malformed \"CÉDULA\" values.</span>"
   ]
  },
  {
   "cell_type": "code",
   "execution_count": 358,
   "metadata": {},
   "outputs": [
    {
     "data": {
      "text/plain": [
       "(0, 22)"
      ]
     },
     "execution_count": 358,
     "metadata": {},
     "output_type": "execute_result"
    }
   ],
   "source": [
    "homicides_df['CÉDULA'] = homicides_df['CÉDULA'].str.replace(' ', '')\n",
    "homicides_df['CÉDULA'] = homicides_df['CÉDULA'].str.replace('-', '')\n",
    "# Insert hyphen after the first two digits\n",
    "homicides_df['CÉDULA'] = homicides_df['CÉDULA'].str.replace(r'^(\\d{2})(.*)$', r'\\1-\\2', regex=True)\n",
    "\n",
    "\n",
    "\n",
    "\n",
    "# Using regular expressions for validating if \"CÉDULA\" values match the pattern XX-XXX\n",
    "cedula_malformed = homicides_df.loc[homicides_df[\"CÉDULA\"].apply(lambda x: (re.match(\"\\d{2}-\\d{3}\", x) is None))]\n",
    "\n",
    "cedula_malformed.shape"
   ]
  },
  {
   "cell_type": "code",
   "execution_count": 359,
   "metadata": {},
   "outputs": [
    {
     "data": {
      "text/html": [
       "<div>\n",
       "<style scoped>\n",
       "    .dataframe tbody tr th:only-of-type {\n",
       "        vertical-align: middle;\n",
       "    }\n",
       "\n",
       "    .dataframe tbody tr th {\n",
       "        vertical-align: top;\n",
       "    }\n",
       "\n",
       "    .dataframe thead th {\n",
       "        text-align: right;\n",
       "    }\n",
       "</style>\n",
       "<table border=\"1\" class=\"dataframe\">\n",
       "  <thead>\n",
       "    <tr style=\"text-align: right;\">\n",
       "      <th></th>\n",
       "      <th>FECHA</th>\n",
       "      <th>DEPARTAMENTO</th>\n",
       "      <th>MUNICIPIO</th>\n",
       "      <th>DIA</th>\n",
       "      <th>BARRIO</th>\n",
       "      <th>ZONA</th>\n",
       "      <th>CLASE DE SITIO</th>\n",
       "      <th>ARMA O MEDIO</th>\n",
       "      <th>MOVIL VICTIMA</th>\n",
       "      <th>MOVIL AGRESOR</th>\n",
       "      <th>EDAD</th>\n",
       "      <th>GENERO</th>\n",
       "      <th>ESTADO CIVIL</th>\n",
       "      <th>CLASE EMPLEADO</th>\n",
       "      <th>PROFESION</th>\n",
       "      <th>ESCOLARIDAD</th>\n",
       "      <th>PAIS NACE</th>\n",
       "      <th>CODIGO DANE</th>\n",
       "      <th>AÑO DE NACIMIENTO</th>\n",
       "      <th>CÉDULA</th>\n",
       "      <th>CORREO</th>\n",
       "      <th>DEPARTAMENTO_AJUSTADO</th>\n",
       "    </tr>\n",
       "  </thead>\n",
       "  <tbody>\n",
       "  </tbody>\n",
       "</table>\n",
       "</div>"
      ],
      "text/plain": [
       "Empty DataFrame\n",
       "Columns: [FECHA, DEPARTAMENTO, MUNICIPIO, DIA, BARRIO, ZONA, CLASE DE SITIO, ARMA O MEDIO, MOVIL VICTIMA, MOVIL AGRESOR, EDAD, GENERO, ESTADO CIVIL, CLASE EMPLEADO, PROFESION, ESCOLARIDAD, PAIS NACE, CODIGO DANE, AÑO DE NACIMIENTO, CÉDULA, CORREO, DEPARTAMENTO_AJUSTADO]\n",
       "Index: []"
      ]
     },
     "execution_count": 359,
     "metadata": {},
     "output_type": "execute_result"
    }
   ],
   "source": [
    "cedula_malformed.head(6)"
   ]
  },
  {
   "cell_type": "markdown",
   "metadata": {},
   "source": [
    "<span style=\"color:red\">TODO: Make something similar to check and fix the \"CORREO\" column (PATTERN: 4 digits before the @, only .edu.co and .com domains are allowed)</span>"
   ]
  },
  {
   "cell_type": "code",
   "execution_count": 360,
   "metadata": {},
   "outputs": [],
   "source": [
    "correo_malformed = homicides_df.loc[homicides_df[\"CORREO\"].apply(lambda x: (re.match(\"\\w+\\d{4}@\\w+(\\.edu.co|\\.com)\", x) is None))]"
   ]
  },
  {
   "cell_type": "code",
   "execution_count": 361,
   "metadata": {},
   "outputs": [
    {
     "data": {
      "text/plain": [
       "(2134, 22)"
      ]
     },
     "execution_count": 361,
     "metadata": {},
     "output_type": "execute_result"
    }
   ],
   "source": [
    "correo_malformed.shape"
   ]
  },
  {
   "cell_type": "code",
   "execution_count": 362,
   "metadata": {
    "scrolled": true
   },
   "outputs": [
    {
     "data": {
      "text/html": [
       "<div>\n",
       "<style scoped>\n",
       "    .dataframe tbody tr th:only-of-type {\n",
       "        vertical-align: middle;\n",
       "    }\n",
       "\n",
       "    .dataframe tbody tr th {\n",
       "        vertical-align: top;\n",
       "    }\n",
       "\n",
       "    .dataframe thead th {\n",
       "        text-align: right;\n",
       "    }\n",
       "</style>\n",
       "<table border=\"1\" class=\"dataframe\">\n",
       "  <thead>\n",
       "    <tr style=\"text-align: right;\">\n",
       "      <th></th>\n",
       "      <th>FECHA</th>\n",
       "      <th>DEPARTAMENTO</th>\n",
       "      <th>MUNICIPIO</th>\n",
       "      <th>DIA</th>\n",
       "      <th>BARRIO</th>\n",
       "      <th>ZONA</th>\n",
       "      <th>CLASE DE SITIO</th>\n",
       "      <th>ARMA O MEDIO</th>\n",
       "      <th>MOVIL VICTIMA</th>\n",
       "      <th>MOVIL AGRESOR</th>\n",
       "      <th>EDAD</th>\n",
       "      <th>GENERO</th>\n",
       "      <th>ESTADO CIVIL</th>\n",
       "      <th>CLASE EMPLEADO</th>\n",
       "      <th>PROFESION</th>\n",
       "      <th>ESCOLARIDAD</th>\n",
       "      <th>PAIS NACE</th>\n",
       "      <th>CODIGO DANE</th>\n",
       "      <th>AÑO DE NACIMIENTO</th>\n",
       "      <th>CÉDULA</th>\n",
       "      <th>CORREO</th>\n",
       "      <th>DEPARTAMENTO_AJUSTADO</th>\n",
       "    </tr>\n",
       "  </thead>\n",
       "  <tbody>\n",
       "    <tr>\n",
       "      <th>28</th>\n",
       "      <td>2021-01-01 15:00:00</td>\n",
       "      <td>CAQUETÁ</td>\n",
       "      <td>SAN JOSÉ DEL FRAGUA</td>\n",
       "      <td>Jueces</td>\n",
       "      <td>CENTRO</td>\n",
       "      <td>URBANA</td>\n",
       "      <td>DISCOTECAS</td>\n",
       "      <td>ARMA DE FUEGO</td>\n",
       "      <td>A PIE</td>\n",
       "      <td>A PIE</td>\n",
       "      <td>24.0</td>\n",
       "      <td>MASCULINO</td>\n",
       "      <td>UNION LIBRE</td>\n",
       "      <td>INDEPENDIENTE</td>\n",
       "      <td>NO REPORTADO</td>\n",
       "      <td>PRIMARIA</td>\n",
       "      <td>COLOMBIA</td>\n",
       "      <td>18610000.0</td>\n",
       "      <td>1991.0</td>\n",
       "      <td>94-565</td>\n",
       "      <td>correo975@unidatos.edu.co</td>\n",
       "      <td>CAQUETÁ</td>\n",
       "    </tr>\n",
       "    <tr>\n",
       "      <th>36</th>\n",
       "      <td>2021-01-01 08:00:00</td>\n",
       "      <td>CAUCA</td>\n",
       "      <td>PATÍA</td>\n",
       "      <td>Jueves</td>\n",
       "      <td>C/MIENTO PIEDRASENTADA</td>\n",
       "      <td>RURAL</td>\n",
       "      <td>CARRETERA</td>\n",
       "      <td>ARMA DE FUEGO</td>\n",
       "      <td>VEHICULO</td>\n",
       "      <td>A PIE</td>\n",
       "      <td>26.0</td>\n",
       "      <td>MASCULINO</td>\n",
       "      <td>SOLTERO</td>\n",
       "      <td>EMPLEADO EJERCITO</td>\n",
       "      <td>NO REPORTADO</td>\n",
       "      <td>SECUNDARIA</td>\n",
       "      <td>COLOMBIA</td>\n",
       "      <td>19532000.0</td>\n",
       "      <td>1989.0</td>\n",
       "      <td>69-084</td>\n",
       "      <td>correo4714@colombia.gov.co</td>\n",
       "      <td>CAUCA</td>\n",
       "    </tr>\n",
       "    <tr>\n",
       "      <th>47</th>\n",
       "      <td>2021-01-01 09:00:00</td>\n",
       "      <td>CHOCÓ</td>\n",
       "      <td>TADÓ</td>\n",
       "      <td>Jueves</td>\n",
       "      <td>POPULAR</td>\n",
       "      <td>URBANA</td>\n",
       "      <td>VIAS PUBLICAS</td>\n",
       "      <td>ARMA DE FUEGO</td>\n",
       "      <td>A PIE</td>\n",
       "      <td>A PIE</td>\n",
       "      <td>34.0</td>\n",
       "      <td>MASCULINO</td>\n",
       "      <td>CASADO</td>\n",
       "      <td>EMPLEADO POLICIAL</td>\n",
       "      <td>POLICIA</td>\n",
       "      <td>TECNICO</td>\n",
       "      <td>COLOMBIA</td>\n",
       "      <td>27787000.0</td>\n",
       "      <td>1981.0</td>\n",
       "      <td>29-957</td>\n",
       "      <td>correo8297@colombia.gov.co</td>\n",
       "      <td>CHOCÓ</td>\n",
       "    </tr>\n",
       "    <tr>\n",
       "      <th>55</th>\n",
       "      <td>2021-01-01 01:30:00</td>\n",
       "      <td>CUNDINAMARCA</td>\n",
       "      <td>BOGOTÁ D.C. (CT)</td>\n",
       "      <td>Jueves</td>\n",
       "      <td>ÁLVARO BERNAL SEGURA E-19</td>\n",
       "      <td>URBANA</td>\n",
       "      <td>VIAS PUBLICAS</td>\n",
       "      <td>ARMA DE FUEGO</td>\n",
       "      <td>A PIE</td>\n",
       "      <td>A PIE</td>\n",
       "      <td>25.0</td>\n",
       "      <td>MASCULINO</td>\n",
       "      <td>UNION LIBRE</td>\n",
       "      <td>DESEMPLEADO</td>\n",
       "      <td>NO REPORTADO</td>\n",
       "      <td>SECUNDARIA</td>\n",
       "      <td>COLOMBIA</td>\n",
       "      <td>11001000.0</td>\n",
       "      <td>1990.0</td>\n",
       "      <td>35-260</td>\n",
       "      <td>correo7285@colombia.gov.co</td>\n",
       "      <td>CUNDINAMARCA</td>\n",
       "    </tr>\n",
       "    <tr>\n",
       "      <th>60</th>\n",
       "      <td>2021-01-01 09:50:00</td>\n",
       "      <td>CUNDINAMARCA</td>\n",
       "      <td>BOGOTÁ D.C. (CT)</td>\n",
       "      <td>Jueves</td>\n",
       "      <td>LAS COLINAS E-18</td>\n",
       "      <td>URBANA</td>\n",
       "      <td>VIAS PUBLICAS</td>\n",
       "      <td>ARMA BLANCA</td>\n",
       "      <td>A PIE</td>\n",
       "      <td>A PIE</td>\n",
       "      <td>37.0</td>\n",
       "      <td>MASCULINO</td>\n",
       "      <td>SOLTERO</td>\n",
       "      <td>INDEPENDIENTE</td>\n",
       "      <td>NO REPORTADO</td>\n",
       "      <td>SECUNDARIA</td>\n",
       "      <td>COLOMBIA</td>\n",
       "      <td>11001000.0</td>\n",
       "      <td>1978.0</td>\n",
       "      <td>96-322</td>\n",
       "      <td>correo870@unidatos.edu.co</td>\n",
       "      <td>CUNDINAMARCA</td>\n",
       "    </tr>\n",
       "    <tr>\n",
       "      <th>63</th>\n",
       "      <td>2021-01-01 17:53:00</td>\n",
       "      <td>CUNDINAMARCA</td>\n",
       "      <td>BOGOTÁ D.C. (CT)</td>\n",
       "      <td>Jueces</td>\n",
       "      <td>LA ESTRELLA SECTOR LAGOS E-19</td>\n",
       "      <td>URBANA</td>\n",
       "      <td>VIAS PUBLICAS</td>\n",
       "      <td>ARMA BLANCA</td>\n",
       "      <td>A PIE</td>\n",
       "      <td>A PIE</td>\n",
       "      <td>19.0</td>\n",
       "      <td>MASCULINO</td>\n",
       "      <td>SOLTERO</td>\n",
       "      <td>INDEPENDIENTE</td>\n",
       "      <td>NO REPORTADO</td>\n",
       "      <td>SECUNDARIA</td>\n",
       "      <td>COLOMBIA</td>\n",
       "      <td>11001000.0</td>\n",
       "      <td>1996.0</td>\n",
       "      <td>45-426</td>\n",
       "      <td>correo102@unidatos.edu.co</td>\n",
       "      <td>CUNDINAMARCA</td>\n",
       "    </tr>\n",
       "  </tbody>\n",
       "</table>\n",
       "</div>"
      ],
      "text/plain": [
       "                 FECHA  DEPARTAMENTO            MUNICIPIO     DIA  \\\n",
       "28 2021-01-01 15:00:00       CAQUETÁ  SAN JOSÉ DEL FRAGUA  Jueces   \n",
       "36 2021-01-01 08:00:00         CAUCA                PATÍA  Jueves   \n",
       "47 2021-01-01 09:00:00         CHOCÓ                 TADÓ  Jueves   \n",
       "55 2021-01-01 01:30:00  CUNDINAMARCA     BOGOTÁ D.C. (CT)  Jueves   \n",
       "60 2021-01-01 09:50:00  CUNDINAMARCA     BOGOTÁ D.C. (CT)  Jueves   \n",
       "63 2021-01-01 17:53:00  CUNDINAMARCA     BOGOTÁ D.C. (CT)  Jueces   \n",
       "\n",
       "                           BARRIO    ZONA CLASE DE SITIO   ARMA O MEDIO  \\\n",
       "28                         CENTRO  URBANA     DISCOTECAS  ARMA DE FUEGO   \n",
       "36         C/MIENTO PIEDRASENTADA   RURAL      CARRETERA  ARMA DE FUEGO   \n",
       "47                        POPULAR  URBANA  VIAS PUBLICAS  ARMA DE FUEGO   \n",
       "55      ÁLVARO BERNAL SEGURA E-19  URBANA  VIAS PUBLICAS  ARMA DE FUEGO   \n",
       "60               LAS COLINAS E-18  URBANA  VIAS PUBLICAS    ARMA BLANCA   \n",
       "63  LA ESTRELLA SECTOR LAGOS E-19  URBANA  VIAS PUBLICAS    ARMA BLANCA   \n",
       "\n",
       "   MOVIL VICTIMA MOVIL AGRESOR  EDAD     GENERO ESTADO CIVIL  \\\n",
       "28         A PIE         A PIE  24.0  MASCULINO  UNION LIBRE   \n",
       "36      VEHICULO         A PIE  26.0  MASCULINO      SOLTERO   \n",
       "47         A PIE         A PIE  34.0  MASCULINO       CASADO   \n",
       "55         A PIE         A PIE  25.0  MASCULINO  UNION LIBRE   \n",
       "60         A PIE         A PIE  37.0  MASCULINO      SOLTERO   \n",
       "63         A PIE         A PIE  19.0  MASCULINO      SOLTERO   \n",
       "\n",
       "       CLASE EMPLEADO     PROFESION ESCOLARIDAD PAIS NACE  CODIGO DANE  \\\n",
       "28      INDEPENDIENTE  NO REPORTADO    PRIMARIA  COLOMBIA   18610000.0   \n",
       "36  EMPLEADO EJERCITO  NO REPORTADO  SECUNDARIA  COLOMBIA   19532000.0   \n",
       "47  EMPLEADO POLICIAL       POLICIA     TECNICO  COLOMBIA   27787000.0   \n",
       "55        DESEMPLEADO  NO REPORTADO  SECUNDARIA  COLOMBIA   11001000.0   \n",
       "60      INDEPENDIENTE  NO REPORTADO  SECUNDARIA  COLOMBIA   11001000.0   \n",
       "63      INDEPENDIENTE  NO REPORTADO  SECUNDARIA  COLOMBIA   11001000.0   \n",
       "\n",
       "    AÑO DE NACIMIENTO  CÉDULA                      CORREO  \\\n",
       "28             1991.0  94-565   correo975@unidatos.edu.co   \n",
       "36             1989.0  69-084  correo4714@colombia.gov.co   \n",
       "47             1981.0  29-957  correo8297@colombia.gov.co   \n",
       "55             1990.0  35-260  correo7285@colombia.gov.co   \n",
       "60             1978.0  96-322   correo870@unidatos.edu.co   \n",
       "63             1996.0  45-426   correo102@unidatos.edu.co   \n",
       "\n",
       "   DEPARTAMENTO_AJUSTADO  \n",
       "28               CAQUETÁ  \n",
       "36                 CAUCA  \n",
       "47                 CHOCÓ  \n",
       "55          CUNDINAMARCA  \n",
       "60          CUNDINAMARCA  \n",
       "63          CUNDINAMARCA  "
      ]
     },
     "execution_count": 362,
     "metadata": {},
     "output_type": "execute_result"
    }
   ],
   "source": [
    "correo_malformed.head(6)"
   ]
  },
  {
   "cell_type": "markdown",
   "metadata": {},
   "source": [
    "## 5. Automating imputation of categorical values"
   ]
  },
  {
   "cell_type": "code",
   "execution_count": 363,
   "metadata": {
    "scrolled": true
   },
   "outputs": [
    {
     "data": {
      "text/plain": [
       "array(['Jueves', 'Juees', 'Jueces', 'juves', 'Juevrs', 'Viernes',\n",
       "       'Viermes', 'iernes', 'virnes', 'Vierens', 'Sábado', 'Sabadi',\n",
       "       'Sabado', 'sábad', 'Sávado', 'Ssbado', 'Domingo', 'Domungo',\n",
       "       'Doningo', 'domungo', 'Lunes', 'lune', 'Luns', 'Lumes', 'kunes',\n",
       "       'Lnues', 'Martes', 'Mates', 'Marte', 'mates', 'Miércoles',\n",
       "       'Miwrcoles', 'Mircoles', 'Voernes', 'domnigo', 'Maryes',\n",
       "       'Miercoles', 'miércles', 'Dominog', 'Msrtes', 'Mirrcoles'],\n",
       "      dtype=object)"
      ]
     },
     "execution_count": 363,
     "metadata": {},
     "output_type": "execute_result"
    }
   ],
   "source": [
    "homicides_df[\"DIA\"].unique()"
   ]
  },
  {
   "cell_type": "code",
   "execution_count": 364,
   "metadata": {},
   "outputs": [
    {
     "data": {
      "text/plain": [
       "3"
      ]
     },
     "execution_count": 364,
     "metadata": {},
     "output_type": "execute_result"
    }
   ],
   "source": [
    "# Calculating the distance between two words using the Levenshtein distance\n",
    "pylev.levenshtein(\"sábado\", \"sabaod\")"
   ]
  },
  {
   "cell_type": "code",
   "execution_count": 365,
   "metadata": {},
   "outputs": [
    {
     "data": {
      "text/plain": [
       "7"
      ]
     },
     "execution_count": 365,
     "metadata": {},
     "output_type": "execute_result"
    }
   ],
   "source": [
    "pylev.levenshtein(\"sábado\", \"viernes\")"
   ]
  },
  {
   "cell_type": "code",
   "execution_count": 366,
   "metadata": {},
   "outputs": [
    {
     "data": {
      "text/plain": [
       "0.6666666666666666"
      ]
     },
     "execution_count": 366,
     "metadata": {},
     "output_type": "execute_result"
    }
   ],
   "source": [
    "SequenceMatcher(None, \"sábado\", \"sabaod\").ratio()"
   ]
  },
  {
   "cell_type": "code",
   "execution_count": 367,
   "metadata": {},
   "outputs": [
    {
     "data": {
      "text/plain": [
       "0.15384615384615385"
      ]
     },
     "execution_count": 367,
     "metadata": {},
     "output_type": "execute_result"
    }
   ],
   "source": [
    "SequenceMatcher(None, \"sábado\", \"viernes\").ratio()"
   ]
  },
  {
   "cell_type": "markdown",
   "metadata": {},
   "source": [
    "<span style=\"color:red\">How does SequenceMatcher works? How this differ from the Levenshtein distance?</span>"
   ]
  },
  {
   "cell_type": "markdown",
   "metadata": {},
   "source": [
    "SequenceMatcher busca secuencias continuas de caracteres que coincidan entre dos textos, mientras que la distancia de Levenshtein evalúa las coincidencias uno a uno, caracter por caracter, para determinar la similitud entre los textos. En otras palabras, SequenceMatcher se enfoca en encontrar partes continuas que se parezcan al estandar de los textos, mientras que la distancia de Levenshtein analiza las similitudes y diferencias entre los caracteres individuales en ambos textos."
   ]
  },
  {
   "cell_type": "markdown",
   "metadata": {},
   "source": [
    "<span style=\"color:red\">TODO: Create a function to fix the digitation errors for the \"DIA\" column.</span>"
   ]
  },
  {
   "cell_type": "code",
   "execution_count": 368,
   "metadata": {},
   "outputs": [],
   "source": [
    "array=['Lunes','Martes','Miércoles','Jueves','Viernes','Sabado','Domingo']\n",
    "\n",
    "def find_best_match(value):\n",
    "    return max(array, key=lambda x: SequenceMatcher(None, value, x).ratio())\n",
    "\n",
    "homicides_df[\"DIA\"] = homicides_df[\"DIA\"].apply(find_best_match)"
   ]
  },
  {
   "cell_type": "code",
   "execution_count": 369,
   "metadata": {},
   "outputs": [
    {
     "data": {
      "text/plain": [
       "array(['Jueves', 'Viernes', 'Sabado', 'Domingo', 'Lunes', 'Martes',\n",
       "       'Miércoles'], dtype=object)"
      ]
     },
     "execution_count": 369,
     "metadata": {},
     "output_type": "execute_result"
    }
   ],
   "source": [
    "homicides_df[\"DIA\"].unique()"
   ]
  },
  {
   "cell_type": "markdown",
   "metadata": {},
   "source": [
    "## 6. Recalculation based on a different column"
   ]
  },
  {
   "cell_type": "code",
   "execution_count": 370,
   "metadata": {},
   "outputs": [
    {
     "data": {
      "text/html": [
       "<div>\n",
       "<style scoped>\n",
       "    .dataframe tbody tr th:only-of-type {\n",
       "        vertical-align: middle;\n",
       "    }\n",
       "\n",
       "    .dataframe tbody tr th {\n",
       "        vertical-align: top;\n",
       "    }\n",
       "\n",
       "    .dataframe thead th {\n",
       "        text-align: right;\n",
       "    }\n",
       "</style>\n",
       "<table border=\"1\" class=\"dataframe\">\n",
       "  <thead>\n",
       "    <tr style=\"text-align: right;\">\n",
       "      <th></th>\n",
       "      <th>AÑO DE NACIMIENTO</th>\n",
       "      <th>EDAD</th>\n",
       "    </tr>\n",
       "  </thead>\n",
       "  <tbody>\n",
       "    <tr>\n",
       "      <th>3604</th>\n",
       "      <td>2012.0</td>\n",
       "      <td>3.0</td>\n",
       "    </tr>\n",
       "    <tr>\n",
       "      <th>3020</th>\n",
       "      <td>1987.0</td>\n",
       "      <td>28.0</td>\n",
       "    </tr>\n",
       "    <tr>\n",
       "      <th>12346</th>\n",
       "      <td>1991.0</td>\n",
       "      <td>24.0</td>\n",
       "    </tr>\n",
       "    <tr>\n",
       "      <th>5344</th>\n",
       "      <td>1991.0</td>\n",
       "      <td>24.0</td>\n",
       "    </tr>\n",
       "    <tr>\n",
       "      <th>1407</th>\n",
       "      <td>1998.0</td>\n",
       "      <td>17.0</td>\n",
       "    </tr>\n",
       "    <tr>\n",
       "      <th>12321</th>\n",
       "      <td>1973.0</td>\n",
       "      <td>42.0</td>\n",
       "    </tr>\n",
       "    <tr>\n",
       "      <th>11293</th>\n",
       "      <td>1997.0</td>\n",
       "      <td>18.0</td>\n",
       "    </tr>\n",
       "    <tr>\n",
       "      <th>8337</th>\n",
       "      <td>93.0</td>\n",
       "      <td>22.0</td>\n",
       "    </tr>\n",
       "    <tr>\n",
       "      <th>11824</th>\n",
       "      <td>1967.0</td>\n",
       "      <td>48.0</td>\n",
       "    </tr>\n",
       "    <tr>\n",
       "      <th>2372</th>\n",
       "      <td>1997.0</td>\n",
       "      <td>18.0</td>\n",
       "    </tr>\n",
       "  </tbody>\n",
       "</table>\n",
       "</div>"
      ],
      "text/plain": [
       "       AÑO DE NACIMIENTO  EDAD\n",
       "3604              2012.0   3.0\n",
       "3020              1987.0  28.0\n",
       "12346             1991.0  24.0\n",
       "5344              1991.0  24.0\n",
       "1407              1998.0  17.0\n",
       "12321             1973.0  42.0\n",
       "11293             1997.0  18.0\n",
       "8337                93.0  22.0\n",
       "11824             1967.0  48.0\n",
       "2372              1997.0  18.0"
      ]
     },
     "execution_count": 370,
     "metadata": {},
     "output_type": "execute_result"
    }
   ],
   "source": [
    "homicides_df[[\"AÑO DE NACIMIENTO\", \"EDAD\"]].sample(10)"
   ]
  },
  {
   "cell_type": "markdown",
   "metadata": {},
   "source": [
    "<span style=\"color:red\">TODO: Fix the \"AÑO DE NACIMIENTO\" column using the column \"EDAD\".</span>"
   ]
  },
  {
   "cell_type": "code",
   "execution_count": 371,
   "metadata": {},
   "outputs": [
    {
     "name": "stdout",
     "output_type": "stream",
     "text": [
      "11559\n"
     ]
    }
   ],
   "source": [
    "def update_birth_year(row):\n",
    "    current_year = datetime.now().year\n",
    "    birth_year = current_year - row['EDAD']\n",
    "    return birth_year\n",
    "\n",
    "homicides_df['AÑO DE NACIMIENTO AJUSTADO'] = homicides_df.apply(update_birth_year, axis=1)\n",
    "\n",
    "# Comparar las columnas y obtener una matriz de diferencias\n",
    "discrepancias_matrix = (homicides_df['AÑO DE NACIMIENTO'] != homicides_df['AÑO DE NACIMIENTO AJUSTADO']).values\n",
    "\n",
    "\n",
    "# Convertir la matriz de diferencias en una matriz NumPy\n",
    "discrepancias_matrix_np = np.array(discrepancias_matrix, dtype=int)\n",
    "\n",
    "# Contar las discrepancias\n",
    "numero_discrepancias = np.count_nonzero(discrepancias_matrix_np)\n",
    "\n",
    "print(numero_discrepancias)"
   ]
  },
  {
   "cell_type": "code",
   "execution_count": 372,
   "metadata": {},
   "outputs": [],
   "source": [
    "def update_birth_year(row):\n",
    "    current_year = datetime.now().year\n",
    "    birth_year = current_year - row['EDAD']\n",
    "    return birth_year\n",
    "\n",
    "homicides_df['AÑO DE NACIMIENTO'] = homicides_df.apply(update_birth_year, axis=1)"
   ]
  },
  {
   "cell_type": "code",
   "execution_count": 373,
   "metadata": {},
   "outputs": [
    {
     "data": {
      "text/plain": [
       "array([1979., 1993., 1990., 1983., 1957., 1981., 1998., 1986., 1982.,\n",
       "       1994., 2002., 2003., 1991., 1984., 2006., 1995., 2005., 2000.,\n",
       "       1985., 1973., 1999., 1988., 1997., 2001., 1989., 1992., 1965.,\n",
       "       1996., 2008., 2004., 1980., 1987., 1966., 1968., 1956., 1977.,\n",
       "       1953., 1958., 1974., 2007., 1970., 2009., 1959., 1975., 1972.,\n",
       "       1976., 1948., 1971., 1969., 1961., 1978., 1964., 1967., 2022.,\n",
       "       1949., 1940., 1943., 1946., 1955., 1947., 1962., 2023., 1945.,\n",
       "       2012., 2010., 2017., 1952., 2018., 1942., 1960., 2015., 2019.,\n",
       "       2013., 1950., 1944., 1933., 1963., 2021., 2014., 1939., 1951.,\n",
       "       2011., 1954., 1941., 2020., 1937., 2016., 1938., 1931., 1934.])"
      ]
     },
     "execution_count": 373,
     "metadata": {},
     "output_type": "execute_result"
    }
   ],
   "source": [
    "homicides_df[\"AÑO DE NACIMIENTO\"].unique()"
   ]
  },
  {
   "cell_type": "markdown",
   "metadata": {},
   "source": [
    "## 7. Conclusion\n",
    "\n",
    "<span style=\"color:red\">Make a summary of the different data quality problems found on the dataset, the data quality dimension that is related to and the implemented strategy for solving or mitigating that specific problem.</span>"
   ]
  },
  {
   "cell_type": "markdown",
   "metadata": {},
   "source": [
    "**1. Working with datetimes:** \n",
    "\n",
    "En esta primera etapa del análisis, observamos que la columna 'fecha' está registrada como un tipo de dato 'objeto', lo que incumple con el principio de consistencia de datos. Según las mejores prácticas, esta columna debería ser de tipo 'date' para garantizar la uniformidad en la presentación de la información. A nivel de atributos, procedemos a evaluar los valores que no cumplen con la sintaxis esperada, lo que resulta en una tabla con las siguientes dimensiones:\n",
    "\n",
    "Número de filas: 5\n",
    "Número de columnas: 22\n",
    "\n",
    "Es relevante destacar que la cantidad de registros que no cumplen con el estándar es minima en relación al total de registros iniciales (5 de 12,400, es decir, un 0.04%). Por lo tanto, se procede a eliminar los registros que no cumplen con el formato establecido para mantener la integridad de los datos\n",
    "\n",
    "**2. Fixing categorical column:** \n",
    "\n",
    "En esta segunda fase del análisis, hemos identificado una falta de conformidad en los departamentos enlistados, ya que sus registros no correspondían al estándar requerido para la presentación de la información. Se identificaron 101 registros que no cumplían con los requisitos, lo que resultó en una tabla con las siguientes dimensiones:\n",
    "\n",
    "Número de filas: 101\n",
    "Número de columnas: 22\n",
    "\n",
    "Para abordar los errores de digitación a nivel del atributo de la columna, hemos utilizado la distancia de Levenshtein para corregir las discrepancias y garantizar la integridad de los datos.\n",
    "\n",
    "**3. Analyzing potential duplicates:** \n",
    "\n",
    "En esta tercera fase del análisis, hemos detectado la existencia de registros duplicados, lo que representa una violación del principio de 'Unicidad' o 'No duplicación' en la calidad de la información, específicamente en el atributo 'Cedula'. Este hallazgo ha dado lugar a una tabla con las siguientes dimensiones:\n",
    "\n",
    "Número de filas: 1627\n",
    "Número de columnas: 22\n",
    "\n",
    "Con el propósito de abordar esta problemática, hemos empleado la función 'drop' para eliminar estos registros duplicados y así garantizar la integridad y calidad de los datos.\n",
    "\n",
    "**4. Automating imputation of categorical values:** \n",
    "\n",
    "En esta cuarta etapa del análisis, hemos identificado una falta de conformidad en los números de cédula, dado que los registros no cumplen con el estándar requerido para la presentación de la información. En total, se encontraron 28 registros que no se ajustaban a los requisitos, lo que resultó en una tabla con las siguientes dimensiones:\n",
    "\n",
    "Número de filas: 28\n",
    "Número de columnas: 22\n",
    "\n",
    "Para abordar esta problemática, hemos llevado a cabo una serie de correcciones. Primero, eliminamos los caracteres '-' y los espacios que pudieran estar presentes en los registros, y posteriormente ajustamos su formato a 'XX-XXX' al insertar el carácter '-' después de los primeros dos dígitos. Estas modificaciones han permitido resolver satisfactoriamente el problema identificado y asegurar la coherencia en la presentación de los datos.\n",
    "\n",
    "Además, con el objetivo de identificar aquellos valores que no cumplían con el principio de relevancia al no ser pertinentes para su inclusión en el conjunto de datos, se llevó a cabo la búsqueda de aquellos registros que no cumplían con el formato requerido: '4 dígitos antes de la @, solo dominios .edu.co y .com'. Este proceso se basó en la aplicación de un patrón de búsqueda que identificaba los valores que no se ajustaban a este estándar: '\\w+\\d{4}@\\w+(.edu.co|.com)', lo que resultó en una tabla con las siguientes dimensiones:\n",
    "\n",
    "Número de filas: 2134\n",
    "Número de columnas: 22\n",
    "\n",
    "**5. Recalculation based on a different column:** \n",
    "\n",
    "En esta fase final del análisis, se detectó una falta de conformidad que afectaba el principio de temporalidad, ya que la columna 'AÑO DE NACIMIENTO' no representaba de manera precisa el año de nacimiento de cada individuo. Este hallazgo resultó en una tabla con las siguientes dimensiones:\n",
    "\n",
    "Número de filas: 11,559\n",
    "Número de columnas: 22\n",
    "\n",
    "Es importante destacar que se utilizó la columna 'Edad' para calcular el año de nacimiento en lugar de depender únicamente de la columna 'AÑO DE NACIMIENTO', lo que reveló discrepancias entre ambas coulmnas(11,559). Para resolver esta problemática, se aplicó un enfoque que consistió en restar el año actual a la edad de cada persona para calcular su año de nacimiento, obteniendo así resultados lógicos y ajustados a la realidad."
   ]
  }
 ],
 "metadata": {
  "kernelspec": {
   "display_name": "Python 3 (ipykernel)",
   "language": "python",
   "name": "python3"
  },
  "language_info": {
   "codemirror_mode": {
    "name": "ipython",
    "version": 3
   },
   "file_extension": ".py",
   "mimetype": "text/x-python",
   "name": "python",
   "nbconvert_exporter": "python",
   "pygments_lexer": "ipython3",
   "version": "3.11.4"
  }
 },
 "nbformat": 4,
 "nbformat_minor": 4
}
